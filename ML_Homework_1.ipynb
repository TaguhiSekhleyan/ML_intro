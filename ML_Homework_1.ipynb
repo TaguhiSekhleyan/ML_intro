{
 "cells": [
  {
   "cell_type": "markdown",
   "metadata": {},
   "source": [
    "ML_Homework_1"
   ]
  },
  {
   "cell_type": "markdown",
   "metadata": {},
   "source": [
    "Task_1:Ստեղծեք ​list1​ լիստը, որը պարունակում է ձեր ցանկացած արժեքները։ User-ից ստացեք 1 արժեք, օգտագործելով input() ֆունկցիան, ու ստուգեք թե քանի անգամ է այդ արժեքը կրկնվում ​list1​-ում։ Տպեք​ list1​-ը և ստացված քանակը հետևյալ ֆորմատով՝ \n",
    " \n",
    "(user input-ն այս օրինակում 2 է, իսկ list2-ը [0, ‘hi’, 2, 100, 300, 2]) \n",
    " \n",
    "list2 = [0, ‘hi’, 2, 100, 300, 2] Number of 2s = 2 \n",
    " "
   ]
  },
  {
   "cell_type": "code",
   "execution_count": null,
   "metadata": {},
   "outputs": [],
   "source": [
    "list2=[7,8,10,11,8,8,55]\n",
    "print('Input  a number:')\n",
    "a=int(input()) \n",
    "b=[]\n",
    "for i  in list2:\n",
    "    if i==a:\n",
    "        b.append(i)\n",
    "print(len(b))\n"
   ]
  },
  {
   "cell_type": "markdown",
   "metadata": {},
   "source": [
    "Task_2: Ստեղծեք ​t2 ​tuple-ը, որը պարունակում է ձեր ցանկացած արժեքները։ Փոխարինեք t2​-ի 4-րդ ինդեքսի տակ գտնվող արժեքը “hello”-ով։ Տպեք ​t2​-ը սկզբում և փոփոխությունից հետո։ Հիշեք, որ tuple-ները փոփոխման չեն ենթարկվում (immutable են)։ \n",
    " "
   ]
  },
  {
   "cell_type": "code",
   "execution_count": 4,
   "metadata": {},
   "outputs": [
    {
     "name": "stdout",
     "output_type": "stream",
     "text": [
      "(7, 6, 5, 'Hi', 'By')\n",
      "(7, 6, 5, 'Hi', 'hello')\n"
     ]
    }
   ],
   "source": [
    "t2=7,6,5,'Hi','By'\n",
    "print(t2)\n",
    "t2=t2[0],t2[1],t2[2],t2[3],'hello'\n",
    "print(t2)"
   ]
  },
  {
   "cell_type": "markdown",
   "metadata": {},
   "source": [
    "Task3:Ստեղծեք ​d​ dictionary-ն ու դրան վերագրեք հետևյալ արժեքը {“name”: “Armen”, “age”: 15, “grades”: [10, 8, 8, 4, 6, 7] }. Գրեք հետևյալ ծրագիրը՝ Եթե  “weight”-ը չկա ​d​-ի key-երի մեջ => ապա user-ից ստանում ենք input որևէ ​n​ թիվ ու այդ արժեքը գրում ենք որպես ​d​-ի “weight” key-ին համապատասխան արժեք, հակառակ դեպքում տպում ենք ​d​ dictionary-ի “weight” key-ին համապատասխանող արժեքը։ "
   ]
  },
  {
   "cell_type": "code",
   "execution_count": 36,
   "metadata": {},
   "outputs": [
    {
     "name": "stdout",
     "output_type": "stream",
     "text": [
      "{'name': 'Armen', 'age': 15, 'grades': [10, 8, 8, 4, 6, 7], 'weight': 75}\n",
      "75\n",
      "{'name': 'Armen', 'age': 15, 'grades': [10, 8, 8, 4, 6, 7], 'weight': 75}\n"
     ]
    }
   ],
   "source": [
    "d={'name':'Armen','age':15,'grades':[10,8,8,4,6,7]}\n",
    "print(d)\n",
    "d.keys()\n",
    "if 'weight' not in d.keys():\n",
    "    d['weight']=input('input your weight:')\n",
    "else:\n",
    "    print(d['weight'])\n",
    "print(d)    "
   ]
  },
  {
   "cell_type": "markdown",
   "metadata": {},
   "source": [
    "Task4:Ստեղծեք ​correct_num​ = 5 փոփոխականը, ստեղծեք int տիպի ​guess​ փոփոխականն ու դրան վերագրեք user-ի տված input-ը՝ օգտագործելով input() ֆունկցիան։ user-ից input ուզեք ու հետևյալ գործողությունը կատարեք 10 անգամ կրկնվող ցիկլի մեջ՝ եթե user-ի գրած թիվը հավասար է ​correct_num​ փոփոխականի արժեքին ապա տպեք \"That was a good guess!\" ու այլևս մի շարունակեք ցիկլը, հակառակ դեպքում՝ կրկին user-ից input ուզեք։ \n",
    " "
   ]
  },
  {
   "cell_type": "code",
   "execution_count": 6,
   "metadata": {},
   "outputs": [
    {
     "name": "stdout",
     "output_type": "stream",
     "text": [
      "Input a  number:5\n",
      "That was a good guess!\n",
      "2\n"
     ]
    }
   ],
   "source": [
    "correct_num=5\n",
    "i=1\n",
    "while i in range(11):\n",
    "        guess=int(input('Input a  number:'))\n",
    "        i=i+1\n",
    "        if  guess==correct_num:\n",
    "                      print(\"That was a good guess!\")\n",
    "                      break\n",
    "           \n"
   ]
  },
  {
   "cell_type": "markdown",
   "metadata": {},
   "source": [
    "Task_5: Ստեղծեք ​list1​ list-ը, որը պարունակում է հետևյալ արժեքները ['a', 'abc', 'xyz', 's', 'aba', '1221']։ Հաշվեք թե​ list1​ list-ի արժեքներից քանիսն են, որոնց մինիմալ երկարությունը 2 է ինչպես նաև առաջին ու վերջին նիշերը նույնն են։Օգտագործեք list comprehension։ "
   ]
  },
  {
   "cell_type": "code",
   "execution_count": 7,
   "metadata": {},
   "outputs": [
    {
     "name": "stdout",
     "output_type": "stream",
     "text": [
      "2\n"
     ]
    }
   ],
   "source": [
    "list1=['a', 'abc', 'xyz', 's', 'aba', '1221'] \n",
    "a=[list1.count(i) for i in list1 if len(i)>=2 and i[0]==i[-1]]\n",
    "print(len(a))"
   ]
  }
 ],
 "metadata": {
  "kernelspec": {
   "display_name": "Python 3",
   "language": "python",
   "name": "python3"
  },
  "language_info": {
   "codemirror_mode": {
    "name": "ipython",
    "version": 3
   },
   "file_extension": ".py",
   "mimetype": "text/x-python",
   "name": "python",
   "nbconvert_exporter": "python",
   "pygments_lexer": "ipython3",
   "version": "3.7.6"
  }
 },
 "nbformat": 4,
 "nbformat_minor": 4
}
