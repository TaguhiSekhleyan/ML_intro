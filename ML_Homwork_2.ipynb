{
 "cells": [
  {
   "cell_type": "markdown",
   "metadata": {},
   "source": [
    "ML_Homework_2"
   ]
  },
  {
   "cell_type": "markdown",
   "metadata": {},
   "source": [
    "1. Create the function ​my_max​ which gets an undefined number of non-keyword arguments and returns the maximum of those. In case the function is called without arguments, it should return the text “no numbers given”. Don’t use the in-built functions for calculating the maximum value."
   ]
  },
  {
   "cell_type": "code",
   "execution_count": 86,
   "metadata": {},
   "outputs": [],
   "source": [
    "def my_max(l):\n",
    "    if len(l)>0:\n",
    "        x=l[0]\n",
    "        for  i in (l):\n",
    "            if x < i:\n",
    "                x=i\n",
    "        return x\n",
    "            \n",
    "    else:\n",
    "         print(\"No numbers given\")\n",
    "        "
   ]
  },
  {
   "cell_type": "code",
   "execution_count": 87,
   "metadata": {},
   "outputs": [
    {
     "name": "stdout",
     "output_type": "stream",
     "text": [
      "3\n"
     ]
    }
   ],
   "source": [
    "l=[1,2,3]\n",
    "print(my_max(l))"
   ]
  },
  {
   "cell_type": "markdown",
   "metadata": {},
   "source": [
    "\n",
    " \n",
    "2. Create a function that gets a list as an argument and returns a new list, which contains only the unique values from the original list.  "
   ]
  },
  {
   "cell_type": "code",
   "execution_count": 20,
   "metadata": {},
   "outputs": [],
   "source": [
    "def Getunique_list(l):\n",
    "    x=[]\n",
    "    for i in l:\n",
    "        if i not in x:\n",
    "            x.append(i)\n",
    "    return x"
   ]
  },
  {
   "cell_type": "code",
   "execution_count": 21,
   "metadata": {},
   "outputs": [
    {
     "data": {
      "text/plain": [
       "[1, 5, 6, 8, 7]"
      ]
     },
     "execution_count": 21,
     "metadata": {},
     "output_type": "execute_result"
    }
   ],
   "source": [
    "Getunique_list([1,5,5,6,8,7,7])"
   ]
  },
  {
   "cell_type": "markdown",
   "metadata": {},
   "source": [
    "Create a function ​my_fib ​which takes an integer ​n ​as an argument and calculates and returns the n-th fibonacci number. Don’t use recursion.  Note: fib(n) = fib(n-1) + fib(n-2) \n",
    " "
   ]
  },
  {
   "cell_type": "code",
   "execution_count": 6,
   "metadata": {},
   "outputs": [],
   "source": [
    "\n",
    "def my_fib(n):\n",
    "        current=0\n",
    "        privious=1\n",
    "        i=0\n",
    "        if n<0:\n",
    "            print(\"Fibbonacci can't be computed\")\n",
    "        elif n==0:\n",
    "            return 0\n",
    "        elif n==1:\n",
    "            return 1\n",
    "        else:\n",
    "            while (i< n):\n",
    "                current, privious,i = current+privious, current, i+1\n",
    "                print(current)\n",
    "   \n"
   ]
  },
  {
   "cell_type": "code",
   "execution_count": 13,
   "metadata": {},
   "outputs": [
    {
     "name": "stdout",
     "output_type": "stream",
     "text": [
      "1\n",
      "1\n",
      "2\n",
      "3\n",
      "None\n"
     ]
    }
   ],
   "source": [
    "print(my_fib(4))"
   ]
  },
  {
   "cell_type": "code",
   "execution_count": 39,
   "metadata": {},
   "outputs": [],
   "source": [
    "class Person:\n",
    "    def __init__(self,name,last_name,age,gender,student,password):\n",
    "        self.name=name\n",
    "        self.last_name=last_name\n",
    "        self.age=age\n",
    "        self.gender=gender\n",
    "        self.student=student\n",
    "        self.__password=password\n",
    "        \n",
    "    def Greeting(self, second_person):\n",
    "        print('Welcome dear '+ second_person.name)\n",
    "        \n",
    "    def Goodbye(self):\n",
    "        print (\"Bye everyone!\") \n",
    "    \n",
    "    def Read_file(self, filename):\n",
    "        filename=input(\"input your file:\" )\n",
    "        f=open(str(filename)+'.txt','r')\n",
    "        print(f.read())\n",
    "    def Favourite_num(num1):\n",
    "                num1=input('input you favourite number:' )\n",
    "                print('My favourite number is '+ num1)\n",
    "    def set_password(self,new_password):\n",
    "        self.__password=new_password\n",
    "        \n",
    "    def get_password(self):\n",
    "        return self.__password     \n"
   ]
  },
  {
   "cell_type": "code",
   "execution_count": 13,
   "metadata": {},
   "outputs": [
    {
     "name": "stdout",
     "output_type": "stream",
     "text": [
      "Welcome dear Dina\n",
      "Bye everyone!\n",
      "input you favourite number:15\n",
      "My favourite number is 15\n"
     ]
    },
    {
     "data": {
      "text/plain": [
       "'ANNA1990'"
      ]
     },
     "execution_count": 13,
     "metadata": {},
     "output_type": "execute_result"
    }
   ],
   "source": [
    "person1=Person('Anna','Dadyan',25,'Female','True','ANNA1990')\n",
    "person2=Person('Dina','Dadyan',30,'Female','False','DINA1990')\n",
    "Person.Greeting(person1,person2)\n",
    "person1.Goodbye()\n",
    "person1.Favourite_num()\n",
    "person1.get_password()"
   ]
  },
  {
   "cell_type": "code",
   "execution_count": 10,
   "metadata": {},
   "outputs": [],
   "source": [
    "class Calculation:\n",
    "    def __init__(self,x,y):\n",
    "        self.x=x\n",
    "        self.y=y\n",
    "    def addition(self):\n",
    "        print(self.x + self.y)\n",
    "    def  subtraction(self):\n",
    "        print(self.x + self.y)"
   ]
  },
  {
   "cell_type": "code",
   "execution_count": 17,
   "metadata": {},
   "outputs": [],
   "source": [
    "class My_calculation(Calculation):\n",
    "    def __init__(self,x,y):\n",
    "        Calculation.__init__(self,x,y) \n",
    "    def multiplication(self):\n",
    "        print(self.x*self.y)\n",
    "    def division(self):\n",
    "        print(self.x/self.y)"
   ]
  },
  {
   "cell_type": "code",
   "execution_count": 19,
   "metadata": {},
   "outputs": [
    {
     "name": "stdout",
     "output_type": "stream",
     "text": [
      "3\n",
      "2\n"
     ]
    }
   ],
   "source": [
    "a=Calculation(1,2)\n",
    "a.addition()\n",
    "b=My_calculation(1,2)\n",
    "b.multiplication()"
   ]
  },
  {
   "cell_type": "markdown",
   "metadata": {},
   "source": []
  },
  {
   "cell_type": "code",
   "execution_count": null,
   "metadata": {},
   "outputs": [],
   "source": []
  }
 ],
 "metadata": {
  "kernelspec": {
   "display_name": "Python 3",
   "language": "python",
   "name": "python3"
  },
  "language_info": {
   "codemirror_mode": {
    "name": "ipython",
    "version": 3
   },
   "file_extension": ".py",
   "mimetype": "text/x-python",
   "name": "python",
   "nbconvert_exporter": "python",
   "pygments_lexer": "ipython3",
   "version": "3.7.6"
  }
 },
 "nbformat": 4,
 "nbformat_minor": 4
}
