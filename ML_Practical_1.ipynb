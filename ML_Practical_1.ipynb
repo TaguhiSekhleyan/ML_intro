{
 "cells": [
  {
   "cell_type": "markdown",
   "metadata": {},
   "source": [
    "PRACTICAL_1"
   ]
  },
  {
   "cell_type": "markdown",
   "metadata": {},
   "source": [
    "1.Ստեղծեք ​list1​ լիստը, որը պարունակում է​ [“hello”, 1, True] ​արժեքները։ \n",
    "User-ից ստացեք մի քանի արժեք, օգտագործելով input() ֆունկցիան, ու ավելացրեք դրանք list1​-ին։ Տ\n",
    "պեք​ list1​-ը սկզբում և արժեքներն ավելացնելուց հետո։  \n",
    " "
   ]
  },
  {
   "cell_type": "code",
   "execution_count": 1,
   "metadata": {},
   "outputs": [
    {
     "name": "stdout",
     "output_type": "stream",
     "text": [
      "5\n",
      "['hello', 1, True, '5']\n"
     ]
    }
   ],
   "source": [
    "list1=['hello',1,True]\n",
    "Inputsmth=input()\n",
    "list1.append(Inputsmth)\n",
    "print(list1)"
   ]
  },
  {
   "cell_type": "markdown",
   "metadata": {},
   "source": [
    "2.Ստեղծեք ​list2​ լիստը, որը պարունակում է ձեր ցանկացած արժեքները։​ list2​-ից ջնջեք 0​-րդ, ​4​-րդ ու ​5​-րդ ինդեքսների տակ գտնվող տարրերը։ Տպեք ​list2​-ը սկզբում և փոփոխությունից հետո"
   ]
  },
  {
   "cell_type": "code",
   "execution_count": null,
   "metadata": {},
   "outputs": [],
   "source": [
    "list2=[1,5,'Yerevan','Dilijan',7.5,8]\n",
    "print(list2)\n",
    "list2.pop(5)\n",
    "list2.pop(4)  \n",
    "list2.pop(0)       \n",
    "print(list2)       \n"
   ]
  },
  {
   "cell_type": "markdown",
   "metadata": {},
   "source": [
    "3.Ստեղծեք ​set3 ​set-ը, որը պարունակում է ձեր ցանկացած ​int ​տիպի արժեքները։ User-ից ստացեք որևէ ​int ​տիպի արժեք, օգտագործելով input() ֆունկցիան, ու ստուգեք թե արդյոք այդ արժեքը գտնվում է ​set3​-ի ամենափոքր ու ամենամեծ արժեքների միջև (min<արժեք<max), համապատասխանաբար տպեք ​True ​(գտնվում է) կամ ​False​ (չի  գտնվում)։  "
   ]
  },
  {
   "cell_type": "code",
   "execution_count": null,
   "metadata": {},
   "outputs": [],
   "source": [
    "set3={1,5,6,7,50,20,60,70}\n",
    "print('Input number:') \n",
    "IN=int(input())\n",
    "if IN > min(set3) and IN < max(set3):\n",
    "    print(True)\n",
    "else:\n",
    "    print(False)\n",
    "    \n"
   ]
  },
  {
   "cell_type": "markdown",
   "metadata": {},
   "source": [
    "4.Ստեղծեք ​dict1 ​dictionary-ն, որը պարունակում է ձեր ցանկացած արժեքները։ User-ից ստացեք String տիպի ​key​ արժեք ու String տիպի ​value​ արժեք, օգտագործելով input() ֆունկցիան, ու ավելացրեք դրանք ​dict1​-ին որպես ​key: value ​զույգ։ Տպեք ​dict1​-ը սկզբում և արժեքն ավելացնելուց հետո։ \n",
    " "
   ]
  },
  {
   "cell_type": "code",
   "execution_count": null,
   "metadata": {},
   "outputs": [],
   "source": [
    "dict1={'key1':1,'key2':5,'key3':6}\n",
    "print('Input key:')\n",
    "Key=str(input())\n",
    "print('Input value:')\n",
    "Values=str(input())\n",
    "dict1['Key']=Values\n",
    "dict1"
   ]
  },
  {
   "cell_type": "markdown",
   "metadata": {},
   "source": [
    "5.Ստեղծեք երկու int տիպի փոփոխականներ (​a, b​, որոնք հանդիսանում են ուղղանկյան կողմեր) և փոփոխականներին վերագրեք ձեր ցանկացած արժեքները։ Ստուգեք թե արդյոք ​a​ ու ​b​ կողմերով ուղղանկյունը քառակուսի է թե ոչ ու համապատախանաբար տպեք ​rectangle"
   ]
  },
  {
   "cell_type": "code",
   "execution_count": null,
   "metadata": {},
   "outputs": [],
   "source": [
    "a=4\n",
    "b=5\n",
    "if a==b:\n",
    "    print('square')\n",
    "else:\n",
    "    print('rectangle')"
   ]
  },
  {
   "cell_type": "markdown",
   "metadata": {},
   "source": [
    "6.Ստեղծեք հետևյալ փոփոխականները ձեր ցանկացած արժեքներով՝ ​name, age, password​։ Գրեք հետևյալ ծրագիրը՝ Եթե ​name​ փոփոխականն ունի “Batman” արժեքը, ցանկացած դեպքում տպեք “Welcome Mr. Batman!”։ Եթե տարիքը ​age​ <16, տպեք “Dear X, you are too young to register”, X-ի փոխարեն օգտագործելով ​name​ փոփոխականի արժեքը; եթե password​-ը չի պարունակում ‘*’ կամ “&”, տպեք “Please enter a different password”։ "
   ]
  },
  {
   "cell_type": "code",
   "execution_count": null,
   "metadata": {},
   "outputs": [],
   "source": [
    "print('What is your name?')\n",
    "name=str(input())\n",
    "if name=='Batman':\n",
    "    print('Wlecome Mr.Batman!')  \n",
    "print('How old are you?')\n",
    "age=int(input())\n",
    "if age <16:\n",
    "    print('Dear '+ name + ' you are too young to register')\n",
    "else: \n",
    "    print('Input your password')\n",
    "    password=str(input())\n",
    "    if password.find('*')==-1 or password.find('&')==-1:\n",
    "                   print('Please enter a different password')"
   ]
  },
  {
   "cell_type": "markdown",
   "metadata": {},
   "source": [
    "7.Տպեք 0-100 կենտ թվերը՝ օգտագործելով for կամ while loop ու if/else "
   ]
  },
  {
   "cell_type": "code",
   "execution_count": null,
   "metadata": {},
   "outputs": [],
   "source": [
    "for i in range(101):\n",
    "    print(i, end = \" \")"
   ]
  },
  {
   "cell_type": "markdown",
   "metadata": {},
   "source": [
    "8.Ցիկլ-ով անցեք 1-20 թվերով ու կանգնացրեք ցիկլը (break), երբ հանդիպեք թվի, որը և 3ի և 5ի բազմապատիկ է։ "
   ]
  },
  {
   "cell_type": "code",
   "execution_count": null,
   "metadata": {},
   "outputs": [],
   "source": [
    "for  i in range(1,21):\n",
    "          print(i,end=\" \")\n",
    "          if i%5==0 and i%3==0:\n",
    "            break\n",
    "        "
   ]
  },
  {
   "cell_type": "markdown",
   "metadata": {},
   "source": [
    "9.Ստեղծեք ​list1​ list-ը, որը պարունակում է Ձեր ցանկացած int տիպի արժեքներ։ Ստեղծեք ​list2​ list-ը, որը պարունակում է ​list1​-ի արժեքները որոնք 20-ից մեծ են։ Տպեք երկու list-երը։ Օգտագործեք list comprehension։ \n",
    "    "
   ]
  },
  {
   "cell_type": "code",
   "execution_count": 5,
   "metadata": {},
   "outputs": [
    {
     "name": "stdout",
     "output_type": "stream",
     "text": [
      "[1, 2, 5, 10, 20, 25, 26, 27]\n",
      "[25, 26, 27]\n"
     ]
    }
   ],
   "source": [
    "list1=[1,2,5,10,20,25,26,27]\n",
    "list2=[i for i in list1 if i >20 ]\n",
    "print(list1)\n",
    "print(list2)"
   ]
  }
 ],
 "metadata": {
  "kernelspec": {
   "display_name": "Python 3",
   "language": "python",
   "name": "python3"
  },
  "language_info": {
   "codemirror_mode": {
    "name": "ipython",
    "version": 3
   },
   "file_extension": ".py",
   "mimetype": "text/x-python",
   "name": "python",
   "nbconvert_exporter": "python",
   "pygments_lexer": "ipython3",
   "version": "3.7.6"
  }
 },
 "nbformat": 4,
 "nbformat_minor": 4
}
