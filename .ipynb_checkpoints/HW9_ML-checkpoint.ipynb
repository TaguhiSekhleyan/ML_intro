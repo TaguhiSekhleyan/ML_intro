{
 "cells": [
  {
   "cell_type": "markdown",
   "metadata": {},
   "source": [
    "HOUSE PRICE PREDICTION"
   ]
  },
  {
   "cell_type": "code",
   "execution_count": 3,
   "metadata": {},
   "outputs": [],
   "source": [
    "import pandas as pd\n",
    "import numpy as np\n",
    "from sklearn import datasets, linear_model\n",
    "from sklearn.model_selection import train_test_split\n",
    "from matplotlib import pyplot as plt\n",
    "from sklearn.metrics import mean_squared_error,mean_absolute_error, r2_score\n"
   ]
  },
  {
   "cell_type": "code",
   "execution_count": 4,
   "metadata": {},
   "outputs": [
    {
     "ename": "FileNotFoundError",
     "evalue": "[Errno 2] File b'houses_train.csv' does not exist: b'houses_train.csv'",
     "output_type": "error",
     "traceback": [
      "\u001b[1;31m---------------------------------------------------------------------------\u001b[0m",
      "\u001b[1;31mFileNotFoundError\u001b[0m                         Traceback (most recent call last)",
      "\u001b[1;32m<ipython-input-4-d9487bdc7fb0>\u001b[0m in \u001b[0;36m<module>\u001b[1;34m\u001b[0m\n\u001b[1;32m----> 1\u001b[1;33m \u001b[0mdata\u001b[0m \u001b[1;33m=\u001b[0m \u001b[0mpd\u001b[0m\u001b[1;33m.\u001b[0m\u001b[0mread_csv\u001b[0m\u001b[1;33m(\u001b[0m\u001b[1;34m'houses_train.csv'\u001b[0m\u001b[1;33m)\u001b[0m\u001b[1;33m\u001b[0m\u001b[1;33m\u001b[0m\u001b[0m\n\u001b[0m",
      "\u001b[1;32m~\\AppData\\Roaming\\Python\\Python37\\site-packages\\pandas\\io\\parsers.py\u001b[0m in \u001b[0;36mparser_f\u001b[1;34m(filepath_or_buffer, sep, delimiter, header, names, index_col, usecols, squeeze, prefix, mangle_dupe_cols, dtype, engine, converters, true_values, false_values, skipinitialspace, skiprows, skipfooter, nrows, na_values, keep_default_na, na_filter, verbose, skip_blank_lines, parse_dates, infer_datetime_format, keep_date_col, date_parser, dayfirst, iterator, chunksize, compression, thousands, decimal, lineterminator, quotechar, quoting, doublequote, escapechar, comment, encoding, dialect, tupleize_cols, error_bad_lines, warn_bad_lines, delim_whitespace, low_memory, memory_map, float_precision)\u001b[0m\n\u001b[0;32m    700\u001b[0m                     skip_blank_lines=skip_blank_lines)\n\u001b[0;32m    701\u001b[0m \u001b[1;33m\u001b[0m\u001b[0m\n\u001b[1;32m--> 702\u001b[1;33m         \u001b[1;32mreturn\u001b[0m \u001b[0m_read\u001b[0m\u001b[1;33m(\u001b[0m\u001b[0mfilepath_or_buffer\u001b[0m\u001b[1;33m,\u001b[0m \u001b[0mkwds\u001b[0m\u001b[1;33m)\u001b[0m\u001b[1;33m\u001b[0m\u001b[1;33m\u001b[0m\u001b[0m\n\u001b[0m\u001b[0;32m    703\u001b[0m \u001b[1;33m\u001b[0m\u001b[0m\n\u001b[0;32m    704\u001b[0m     \u001b[0mparser_f\u001b[0m\u001b[1;33m.\u001b[0m\u001b[0m__name__\u001b[0m \u001b[1;33m=\u001b[0m \u001b[0mname\u001b[0m\u001b[1;33m\u001b[0m\u001b[1;33m\u001b[0m\u001b[0m\n",
      "\u001b[1;32m~\\AppData\\Roaming\\Python\\Python37\\site-packages\\pandas\\io\\parsers.py\u001b[0m in \u001b[0;36m_read\u001b[1;34m(filepath_or_buffer, kwds)\u001b[0m\n\u001b[0;32m    427\u001b[0m \u001b[1;33m\u001b[0m\u001b[0m\n\u001b[0;32m    428\u001b[0m     \u001b[1;31m# Create the parser.\u001b[0m\u001b[1;33m\u001b[0m\u001b[1;33m\u001b[0m\u001b[1;33m\u001b[0m\u001b[0m\n\u001b[1;32m--> 429\u001b[1;33m     \u001b[0mparser\u001b[0m \u001b[1;33m=\u001b[0m \u001b[0mTextFileReader\u001b[0m\u001b[1;33m(\u001b[0m\u001b[0mfilepath_or_buffer\u001b[0m\u001b[1;33m,\u001b[0m \u001b[1;33m**\u001b[0m\u001b[0mkwds\u001b[0m\u001b[1;33m)\u001b[0m\u001b[1;33m\u001b[0m\u001b[1;33m\u001b[0m\u001b[0m\n\u001b[0m\u001b[0;32m    430\u001b[0m \u001b[1;33m\u001b[0m\u001b[0m\n\u001b[0;32m    431\u001b[0m     \u001b[1;32mif\u001b[0m \u001b[0mchunksize\u001b[0m \u001b[1;32mor\u001b[0m \u001b[0miterator\u001b[0m\u001b[1;33m:\u001b[0m\u001b[1;33m\u001b[0m\u001b[1;33m\u001b[0m\u001b[0m\n",
      "\u001b[1;32m~\\AppData\\Roaming\\Python\\Python37\\site-packages\\pandas\\io\\parsers.py\u001b[0m in \u001b[0;36m__init__\u001b[1;34m(self, f, engine, **kwds)\u001b[0m\n\u001b[0;32m    893\u001b[0m             \u001b[0mself\u001b[0m\u001b[1;33m.\u001b[0m\u001b[0moptions\u001b[0m\u001b[1;33m[\u001b[0m\u001b[1;34m'has_index_names'\u001b[0m\u001b[1;33m]\u001b[0m \u001b[1;33m=\u001b[0m \u001b[0mkwds\u001b[0m\u001b[1;33m[\u001b[0m\u001b[1;34m'has_index_names'\u001b[0m\u001b[1;33m]\u001b[0m\u001b[1;33m\u001b[0m\u001b[1;33m\u001b[0m\u001b[0m\n\u001b[0;32m    894\u001b[0m \u001b[1;33m\u001b[0m\u001b[0m\n\u001b[1;32m--> 895\u001b[1;33m         \u001b[0mself\u001b[0m\u001b[1;33m.\u001b[0m\u001b[0m_make_engine\u001b[0m\u001b[1;33m(\u001b[0m\u001b[0mself\u001b[0m\u001b[1;33m.\u001b[0m\u001b[0mengine\u001b[0m\u001b[1;33m)\u001b[0m\u001b[1;33m\u001b[0m\u001b[1;33m\u001b[0m\u001b[0m\n\u001b[0m\u001b[0;32m    896\u001b[0m \u001b[1;33m\u001b[0m\u001b[0m\n\u001b[0;32m    897\u001b[0m     \u001b[1;32mdef\u001b[0m \u001b[0mclose\u001b[0m\u001b[1;33m(\u001b[0m\u001b[0mself\u001b[0m\u001b[1;33m)\u001b[0m\u001b[1;33m:\u001b[0m\u001b[1;33m\u001b[0m\u001b[1;33m\u001b[0m\u001b[0m\n",
      "\u001b[1;32m~\\AppData\\Roaming\\Python\\Python37\\site-packages\\pandas\\io\\parsers.py\u001b[0m in \u001b[0;36m_make_engine\u001b[1;34m(self, engine)\u001b[0m\n\u001b[0;32m   1120\u001b[0m     \u001b[1;32mdef\u001b[0m \u001b[0m_make_engine\u001b[0m\u001b[1;33m(\u001b[0m\u001b[0mself\u001b[0m\u001b[1;33m,\u001b[0m \u001b[0mengine\u001b[0m\u001b[1;33m=\u001b[0m\u001b[1;34m'c'\u001b[0m\u001b[1;33m)\u001b[0m\u001b[1;33m:\u001b[0m\u001b[1;33m\u001b[0m\u001b[1;33m\u001b[0m\u001b[0m\n\u001b[0;32m   1121\u001b[0m         \u001b[1;32mif\u001b[0m \u001b[0mengine\u001b[0m \u001b[1;33m==\u001b[0m \u001b[1;34m'c'\u001b[0m\u001b[1;33m:\u001b[0m\u001b[1;33m\u001b[0m\u001b[1;33m\u001b[0m\u001b[0m\n\u001b[1;32m-> 1122\u001b[1;33m             \u001b[0mself\u001b[0m\u001b[1;33m.\u001b[0m\u001b[0m_engine\u001b[0m \u001b[1;33m=\u001b[0m \u001b[0mCParserWrapper\u001b[0m\u001b[1;33m(\u001b[0m\u001b[0mself\u001b[0m\u001b[1;33m.\u001b[0m\u001b[0mf\u001b[0m\u001b[1;33m,\u001b[0m \u001b[1;33m**\u001b[0m\u001b[0mself\u001b[0m\u001b[1;33m.\u001b[0m\u001b[0moptions\u001b[0m\u001b[1;33m)\u001b[0m\u001b[1;33m\u001b[0m\u001b[1;33m\u001b[0m\u001b[0m\n\u001b[0m\u001b[0;32m   1123\u001b[0m         \u001b[1;32melse\u001b[0m\u001b[1;33m:\u001b[0m\u001b[1;33m\u001b[0m\u001b[1;33m\u001b[0m\u001b[0m\n\u001b[0;32m   1124\u001b[0m             \u001b[1;32mif\u001b[0m \u001b[0mengine\u001b[0m \u001b[1;33m==\u001b[0m \u001b[1;34m'python'\u001b[0m\u001b[1;33m:\u001b[0m\u001b[1;33m\u001b[0m\u001b[1;33m\u001b[0m\u001b[0m\n",
      "\u001b[1;32m~\\AppData\\Roaming\\Python\\Python37\\site-packages\\pandas\\io\\parsers.py\u001b[0m in \u001b[0;36m__init__\u001b[1;34m(self, src, **kwds)\u001b[0m\n\u001b[0;32m   1851\u001b[0m         \u001b[0mkwds\u001b[0m\u001b[1;33m[\u001b[0m\u001b[1;34m'usecols'\u001b[0m\u001b[1;33m]\u001b[0m \u001b[1;33m=\u001b[0m \u001b[0mself\u001b[0m\u001b[1;33m.\u001b[0m\u001b[0musecols\u001b[0m\u001b[1;33m\u001b[0m\u001b[1;33m\u001b[0m\u001b[0m\n\u001b[0;32m   1852\u001b[0m \u001b[1;33m\u001b[0m\u001b[0m\n\u001b[1;32m-> 1853\u001b[1;33m         \u001b[0mself\u001b[0m\u001b[1;33m.\u001b[0m\u001b[0m_reader\u001b[0m \u001b[1;33m=\u001b[0m \u001b[0mparsers\u001b[0m\u001b[1;33m.\u001b[0m\u001b[0mTextReader\u001b[0m\u001b[1;33m(\u001b[0m\u001b[0msrc\u001b[0m\u001b[1;33m,\u001b[0m \u001b[1;33m**\u001b[0m\u001b[0mkwds\u001b[0m\u001b[1;33m)\u001b[0m\u001b[1;33m\u001b[0m\u001b[1;33m\u001b[0m\u001b[0m\n\u001b[0m\u001b[0;32m   1854\u001b[0m         \u001b[0mself\u001b[0m\u001b[1;33m.\u001b[0m\u001b[0munnamed_cols\u001b[0m \u001b[1;33m=\u001b[0m \u001b[0mself\u001b[0m\u001b[1;33m.\u001b[0m\u001b[0m_reader\u001b[0m\u001b[1;33m.\u001b[0m\u001b[0munnamed_cols\u001b[0m\u001b[1;33m\u001b[0m\u001b[1;33m\u001b[0m\u001b[0m\n\u001b[0;32m   1855\u001b[0m \u001b[1;33m\u001b[0m\u001b[0m\n",
      "\u001b[1;32mpandas\\_libs\\parsers.pyx\u001b[0m in \u001b[0;36mpandas._libs.parsers.TextReader.__cinit__\u001b[1;34m()\u001b[0m\n",
      "\u001b[1;32mpandas\\_libs\\parsers.pyx\u001b[0m in \u001b[0;36mpandas._libs.parsers.TextReader._setup_parser_source\u001b[1;34m()\u001b[0m\n",
      "\u001b[1;31mFileNotFoundError\u001b[0m: [Errno 2] File b'houses_train.csv' does not exist: b'houses_train.csv'"
     ]
    }
   ],
   "source": [
    "data = pd.read_csv('houses_train.csv')"
   ]
  },
  {
   "cell_type": "code",
   "execution_count": null,
   "metadata": {},
   "outputs": [],
   "source": [
    "data.head()\n"
   ]
  },
  {
   "cell_type": "code",
   "execution_count": null,
   "metadata": {},
   "outputs": [],
   "source": [
    "y=data['price']"
   ]
  },
  {
   "cell_type": "code",
   "execution_count": null,
   "metadata": {},
   "outputs": [],
   "source": [
    "data.num_bathrooms.unique()"
   ]
  },
  {
   "cell_type": "code",
   "execution_count": 136,
   "metadata": {},
   "outputs": [
    {
     "data": {
      "text/plain": [
       "array(['newly repaired', 'good', 'zero condition'], dtype=object)"
      ]
     },
     "execution_count": 136,
     "metadata": {},
     "output_type": "execute_result"
    }
   ],
   "source": [
    "data.condition.unique()"
   ]
  },
  {
   "cell_type": "code",
   "execution_count": 150,
   "metadata": {},
   "outputs": [
    {
     "data": {
      "text/plain": [
       "array(['Yerevan'], dtype=object)"
      ]
     },
     "execution_count": 150,
     "metadata": {},
     "output_type": "execute_result"
    }
   ],
   "source": [
    "data.region.unique()"
   ]
  },
  {
   "cell_type": "code",
   "execution_count": 151,
   "metadata": {},
   "outputs": [
    {
     "name": "stdout",
     "output_type": "stream",
     "text": [
      "Unnamed: 0\n",
      "price\n",
      "condition\n",
      "district\n",
      "max_floor\n",
      "street\n",
      "num_rooms\n",
      "region\n",
      "area\n",
      "url\n",
      "num_bathrooms\n",
      "building_type\n",
      "floor\n",
      "ceiling_height\n"
     ]
    }
   ],
   "source": [
    "#see features name\n",
    "for col in data.columns: \n",
    "    print(col) "
   ]
  },
  {
   "cell_type": "code",
   "execution_count": 152,
   "metadata": {},
   "outputs": [
    {
     "data": {
      "text/plain": [
       "False"
      ]
     },
     "execution_count": 152,
     "metadata": {},
     "output_type": "execute_result"
    }
   ],
   "source": [
    "# checking missing values \n",
    "data.isnull().values.any()"
   ]
  },
  {
   "cell_type": "code",
   "execution_count": 153,
   "metadata": {},
   "outputs": [],
   "source": [
    "#drop columns which can not influence on price\n",
    "df=data.drop(['url','price','Unnamed: 0'],axis=1)"
   ]
  },
  {
   "cell_type": "code",
   "execution_count": 154,
   "metadata": {},
   "outputs": [],
   "source": [
    "# build model using omly numerical columns\n",
    "df_num=df.drop(['condition','district','street','region','building_type'],axis=1)"
   ]
  },
  {
   "cell_type": "code",
   "execution_count": 155,
   "metadata": {},
   "outputs": [
    {
     "data": {
      "text/html": [
       "<div>\n",
       "<style scoped>\n",
       "    .dataframe tbody tr th:only-of-type {\n",
       "        vertical-align: middle;\n",
       "    }\n",
       "\n",
       "    .dataframe tbody tr th {\n",
       "        vertical-align: top;\n",
       "    }\n",
       "\n",
       "    .dataframe thead th {\n",
       "        text-align: right;\n",
       "    }\n",
       "</style>\n",
       "<table border=\"1\" class=\"dataframe\">\n",
       "  <thead>\n",
       "    <tr style=\"text-align: right;\">\n",
       "      <th></th>\n",
       "      <th>max_floor</th>\n",
       "      <th>num_rooms</th>\n",
       "      <th>area</th>\n",
       "      <th>num_bathrooms</th>\n",
       "      <th>floor</th>\n",
       "      <th>ceiling_height</th>\n",
       "    </tr>\n",
       "  </thead>\n",
       "  <tbody>\n",
       "    <tr>\n",
       "      <th>count</th>\n",
       "      <td>5000.000000</td>\n",
       "      <td>5000.000000</td>\n",
       "      <td>5000.000000</td>\n",
       "      <td>5000.00000</td>\n",
       "      <td>5000.000000</td>\n",
       "      <td>5000.000000</td>\n",
       "    </tr>\n",
       "    <tr>\n",
       "      <th>mean</th>\n",
       "      <td>8.697600</td>\n",
       "      <td>2.690800</td>\n",
       "      <td>81.533400</td>\n",
       "      <td>1.16620</td>\n",
       "      <td>5.166600</td>\n",
       "      <td>2.894760</td>\n",
       "    </tr>\n",
       "    <tr>\n",
       "      <th>std</th>\n",
       "      <td>4.148349</td>\n",
       "      <td>0.822758</td>\n",
       "      <td>24.715806</td>\n",
       "      <td>0.40867</td>\n",
       "      <td>3.395578</td>\n",
       "      <td>0.144861</td>\n",
       "    </tr>\n",
       "    <tr>\n",
       "      <th>min</th>\n",
       "      <td>1.000000</td>\n",
       "      <td>1.000000</td>\n",
       "      <td>27.000000</td>\n",
       "      <td>1.00000</td>\n",
       "      <td>0.000000</td>\n",
       "      <td>2.600000</td>\n",
       "    </tr>\n",
       "    <tr>\n",
       "      <th>25%</th>\n",
       "      <td>5.000000</td>\n",
       "      <td>2.000000</td>\n",
       "      <td>65.000000</td>\n",
       "      <td>1.00000</td>\n",
       "      <td>3.000000</td>\n",
       "      <td>2.800000</td>\n",
       "    </tr>\n",
       "    <tr>\n",
       "      <th>50%</th>\n",
       "      <td>9.000000</td>\n",
       "      <td>3.000000</td>\n",
       "      <td>80.000000</td>\n",
       "      <td>1.00000</td>\n",
       "      <td>4.000000</td>\n",
       "      <td>2.800000</td>\n",
       "    </tr>\n",
       "    <tr>\n",
       "      <th>75%</th>\n",
       "      <td>11.000000</td>\n",
       "      <td>3.000000</td>\n",
       "      <td>97.000000</td>\n",
       "      <td>1.00000</td>\n",
       "      <td>7.000000</td>\n",
       "      <td>3.000000</td>\n",
       "    </tr>\n",
       "    <tr>\n",
       "      <th>max</th>\n",
       "      <td>23.000000</td>\n",
       "      <td>6.000000</td>\n",
       "      <td>149.000000</td>\n",
       "      <td>4.00000</td>\n",
       "      <td>22.000000</td>\n",
       "      <td>3.800000</td>\n",
       "    </tr>\n",
       "  </tbody>\n",
       "</table>\n",
       "</div>"
      ],
      "text/plain": [
       "         max_floor    num_rooms         area  num_bathrooms        floor  \\\n",
       "count  5000.000000  5000.000000  5000.000000     5000.00000  5000.000000   \n",
       "mean      8.697600     2.690800    81.533400        1.16620     5.166600   \n",
       "std       4.148349     0.822758    24.715806        0.40867     3.395578   \n",
       "min       1.000000     1.000000    27.000000        1.00000     0.000000   \n",
       "25%       5.000000     2.000000    65.000000        1.00000     3.000000   \n",
       "50%       9.000000     3.000000    80.000000        1.00000     4.000000   \n",
       "75%      11.000000     3.000000    97.000000        1.00000     7.000000   \n",
       "max      23.000000     6.000000   149.000000        4.00000    22.000000   \n",
       "\n",
       "       ceiling_height  \n",
       "count     5000.000000  \n",
       "mean         2.894760  \n",
       "std          0.144861  \n",
       "min          2.600000  \n",
       "25%          2.800000  \n",
       "50%          2.800000  \n",
       "75%          3.000000  \n",
       "max          3.800000  "
      ]
     },
     "execution_count": 155,
     "metadata": {},
     "output_type": "execute_result"
    }
   ],
   "source": [
    "df_num.describe()"
   ]
  },
  {
   "cell_type": "code",
   "execution_count": 160,
   "metadata": {},
   "outputs": [],
   "source": [
    "#build linea_regresion model\n",
    "reg = linear_model.LinearRegression()\n",
    "model_1 = reg.fit(df_num, y )\n",
    "predictions = reg.predict(df_num)"
   ]
  },
  {
   "cell_type": "code",
   "execution_count": 161,
   "metadata": {},
   "outputs": [
    {
     "data": {
      "text/plain": [
       "(array([  -128.21635757, -12963.58808851,   1373.52101121,  20577.23811937,\n",
       "           136.82724944,  77371.69405209]),\n",
       " -239006.74583108164)"
      ]
     },
     "execution_count": 161,
     "metadata": {},
     "output_type": "execute_result"
    }
   ],
   "source": [
    "reg.coef_, reg.intercept_  "
   ]
  },
  {
   "cell_type": "code",
   "execution_count": 162,
   "metadata": {},
   "outputs": [
    {
     "data": {
      "text/plain": [
       "Text(0, 0.5, 'Predictions')"
      ]
     },
     "execution_count": 162,
     "metadata": {},
     "output_type": "execute_result"
    },
    {
     "data": {
      "image/png": "[encoded data removed]",
      "text/plain": [
       "<Figure size 432x288 with 1 Axes>"
      ]
     },
     "metadata": {
      "needs_background": "light"
     },
     "output_type": "display_data"
    }
   ],
   "source": [
    "## The line / model\n",
    "plt.scatter(y, predictions)\n",
    "plt.xlabel('True Values')\n",
    "plt.ylabel('Predictions')"
   ]
  },
  {
   "cell_type": "code",
   "execution_count": 163,
   "metadata": {},
   "outputs": [
    {
     "name": "stdout",
     "output_type": "stream",
     "text": [
      "Coefficients: \n",
      " [  -128.21635757 -12963.58808851   1373.52101121  20577.23811937\n",
      "    136.82724944  77371.69405209]\n",
      "Mean absolute error: 26193.77\n",
      "Mean squared error: 1346433671.17\n",
      "Root mean squared error: 36693.78\n",
      "R-squared: 0.49\n"
     ]
    }
   ],
   "source": [
    "# The coefficients\n",
    "print('Coefficients: \\n',reg.coef_)\n",
    "# The mean squared error\n",
    "print('Mean absolute error: %.2f'\n",
    "      % mean_absolute_error(y, predictions))\n",
    "\n",
    "print('Mean squared error: %.2f'\n",
    "      % mean_squared_error(y, predictions))\n",
    "\n",
    "print('Root mean squared error: %.2f'\n",
    "      % np.sqrt(mean_squared_error(y, predictions)))\n",
    "\n",
    "print('R-squared: %.2f'\n",
    "      % r2_score(y,predictions))"
   ]
  },
  {
   "cell_type": "code",
   "execution_count": 164,
   "metadata": {},
   "outputs": [
    {
     "data": {
      "text/html": [
       "<div>\n",
       "<style scoped>\n",
       "    .dataframe tbody tr th:only-of-type {\n",
       "        vertical-align: middle;\n",
       "    }\n",
       "\n",
       "    .dataframe tbody tr th {\n",
       "        vertical-align: top;\n",
       "    }\n",
       "\n",
       "    .dataframe thead th {\n",
       "        text-align: right;\n",
       "    }\n",
       "</style>\n",
       "<table border=\"1\" class=\"dataframe\">\n",
       "  <thead>\n",
       "    <tr style=\"text-align: right;\">\n",
       "      <th></th>\n",
       "      <th>Unnamed: 0</th>\n",
       "      <th>price</th>\n",
       "      <th>max_floor</th>\n",
       "      <th>num_rooms</th>\n",
       "      <th>area</th>\n",
       "      <th>num_bathrooms</th>\n",
       "      <th>floor</th>\n",
       "      <th>ceiling_height</th>\n",
       "    </tr>\n",
       "  </thead>\n",
       "  <tbody>\n",
       "    <tr>\n",
       "      <th>Unnamed: 0</th>\n",
       "      <td>1.000000</td>\n",
       "      <td>0.029362</td>\n",
       "      <td>0.015932</td>\n",
       "      <td>0.068341</td>\n",
       "      <td>0.047456</td>\n",
       "      <td>0.045520</td>\n",
       "      <td>0.002410</td>\n",
       "      <td>0.042290</td>\n",
       "    </tr>\n",
       "    <tr>\n",
       "      <th>price</th>\n",
       "      <td>0.029362</td>\n",
       "      <td>1.000000</td>\n",
       "      <td>0.093140</td>\n",
       "      <td>0.348394</td>\n",
       "      <td>0.617961</td>\n",
       "      <td>0.429127</td>\n",
       "      <td>0.061322</td>\n",
       "      <td>0.378490</td>\n",
       "    </tr>\n",
       "    <tr>\n",
       "      <th>max_floor</th>\n",
       "      <td>0.015932</td>\n",
       "      <td>0.093140</td>\n",
       "      <td>1.000000</td>\n",
       "      <td>0.043341</td>\n",
       "      <td>0.150481</td>\n",
       "      <td>0.118503</td>\n",
       "      <td>0.636486</td>\n",
       "      <td>-0.055832</td>\n",
       "    </tr>\n",
       "    <tr>\n",
       "      <th>num_rooms</th>\n",
       "      <td>0.068341</td>\n",
       "      <td>0.348394</td>\n",
       "      <td>0.043341</td>\n",
       "      <td>1.000000</td>\n",
       "      <td>0.750287</td>\n",
       "      <td>0.255791</td>\n",
       "      <td>0.056965</td>\n",
       "      <td>0.082407</td>\n",
       "    </tr>\n",
       "    <tr>\n",
       "      <th>area</th>\n",
       "      <td>0.047456</td>\n",
       "      <td>0.617961</td>\n",
       "      <td>0.150481</td>\n",
       "      <td>0.750287</td>\n",
       "      <td>1.000000</td>\n",
       "      <td>0.408072</td>\n",
       "      <td>0.103008</td>\n",
       "      <td>0.211869</td>\n",
       "    </tr>\n",
       "    <tr>\n",
       "      <th>num_bathrooms</th>\n",
       "      <td>0.045520</td>\n",
       "      <td>0.429127</td>\n",
       "      <td>0.118503</td>\n",
       "      <td>0.255791</td>\n",
       "      <td>0.408072</td>\n",
       "      <td>1.000000</td>\n",
       "      <td>0.066968</td>\n",
       "      <td>0.225228</td>\n",
       "    </tr>\n",
       "    <tr>\n",
       "      <th>floor</th>\n",
       "      <td>0.002410</td>\n",
       "      <td>0.061322</td>\n",
       "      <td>0.636486</td>\n",
       "      <td>0.056965</td>\n",
       "      <td>0.103008</td>\n",
       "      <td>0.066968</td>\n",
       "      <td>1.000000</td>\n",
       "      <td>-0.038445</td>\n",
       "    </tr>\n",
       "    <tr>\n",
       "      <th>ceiling_height</th>\n",
       "      <td>0.042290</td>\n",
       "      <td>0.378490</td>\n",
       "      <td>-0.055832</td>\n",
       "      <td>0.082407</td>\n",
       "      <td>0.211869</td>\n",
       "      <td>0.225228</td>\n",
       "      <td>-0.038445</td>\n",
       "      <td>1.000000</td>\n",
       "    </tr>\n",
       "  </tbody>\n",
       "</table>\n",
       "</div>"
      ],
      "text/plain": [
       "                Unnamed: 0     price  max_floor  num_rooms      area  \\\n",
       "Unnamed: 0        1.000000  0.029362   0.015932   0.068341  0.047456   \n",
       "price             0.029362  1.000000   0.093140   0.348394  0.617961   \n",
       "max_floor         0.015932  0.093140   1.000000   0.043341  0.150481   \n",
       "num_rooms         0.068341  0.348394   0.043341   1.000000  0.750287   \n",
       "area              0.047456  0.617961   0.150481   0.750287  1.000000   \n",
       "num_bathrooms     0.045520  0.429127   0.118503   0.255791  0.408072   \n",
       "floor             0.002410  0.061322   0.636486   0.056965  0.103008   \n",
       "ceiling_height    0.042290  0.378490  -0.055832   0.082407  0.211869   \n",
       "\n",
       "                num_bathrooms     floor  ceiling_height  \n",
       "Unnamed: 0           0.045520  0.002410        0.042290  \n",
       "price                0.429127  0.061322        0.378490  \n",
       "max_floor            0.118503  0.636486       -0.055832  \n",
       "num_rooms            0.255791  0.056965        0.082407  \n",
       "area                 0.408072  0.103008        0.211869  \n",
       "num_bathrooms        1.000000  0.066968        0.225228  \n",
       "floor                0.066968  1.000000       -0.038445  \n",
       "ceiling_height       0.225228 -0.038445        1.000000  "
      ]
     },
     "execution_count": 164,
     "metadata": {},
     "output_type": "execute_result"
    }
   ],
   "source": [
    "data.corr()"
   ]
  },
  {
   "cell_type": "code",
   "execution_count": 120,
   "metadata": {},
   "outputs": [
    {
     "data": {
      "text/html": [
       "<div>\n",
       "<style scoped>\n",
       "    .dataframe tbody tr th:only-of-type {\n",
       "        vertical-align: middle;\n",
       "    }\n",
       "\n",
       "    .dataframe tbody tr th {\n",
       "        vertical-align: top;\n",
       "    }\n",
       "\n",
       "    .dataframe thead th {\n",
       "        text-align: right;\n",
       "    }\n",
       "</style>\n",
       "<table border=\"1\" class=\"dataframe\">\n",
       "  <thead>\n",
       "    <tr style=\"text-align: right;\">\n",
       "      <th></th>\n",
       "      <th>Unnamed: 0</th>\n",
       "      <th>max_floor</th>\n",
       "      <th>num_rooms</th>\n",
       "      <th>area</th>\n",
       "      <th>num_bathrooms</th>\n",
       "      <th>floor</th>\n",
       "      <th>ceiling_height</th>\n",
       "    </tr>\n",
       "  </thead>\n",
       "  <tbody>\n",
       "    <tr>\n",
       "      <th>0</th>\n",
       "      <td>5546</td>\n",
       "      <td>4</td>\n",
       "      <td>3</td>\n",
       "      <td>96.0</td>\n",
       "      <td>1</td>\n",
       "      <td>3</td>\n",
       "      <td>3.2</td>\n",
       "    </tr>\n",
       "    <tr>\n",
       "      <th>1</th>\n",
       "      <td>2979</td>\n",
       "      <td>5</td>\n",
       "      <td>3</td>\n",
       "      <td>78.0</td>\n",
       "      <td>1</td>\n",
       "      <td>2</td>\n",
       "      <td>2.8</td>\n",
       "    </tr>\n",
       "    <tr>\n",
       "      <th>2</th>\n",
       "      <td>2698</td>\n",
       "      <td>10</td>\n",
       "      <td>3</td>\n",
       "      <td>90.0</td>\n",
       "      <td>1</td>\n",
       "      <td>3</td>\n",
       "      <td>2.8</td>\n",
       "    </tr>\n",
       "    <tr>\n",
       "      <th>3</th>\n",
       "      <td>4548</td>\n",
       "      <td>14</td>\n",
       "      <td>2</td>\n",
       "      <td>53.0</td>\n",
       "      <td>1</td>\n",
       "      <td>5</td>\n",
       "      <td>3.0</td>\n",
       "    </tr>\n",
       "    <tr>\n",
       "      <th>4</th>\n",
       "      <td>2982</td>\n",
       "      <td>12</td>\n",
       "      <td>2</td>\n",
       "      <td>47.0</td>\n",
       "      <td>1</td>\n",
       "      <td>3</td>\n",
       "      <td>2.8</td>\n",
       "    </tr>\n",
       "  </tbody>\n",
       "</table>\n",
       "</div>"
      ],
      "text/plain": [
       "   Unnamed: 0  max_floor  num_rooms  area  num_bathrooms  floor  \\\n",
       "0        5546          4          3  96.0              1      3   \n",
       "1        2979          5          3  78.0              1      2   \n",
       "2        2698         10          3  90.0              1      3   \n",
       "3        4548         14          2  53.0              1      5   \n",
       "4        2982         12          2  47.0              1      3   \n",
       "\n",
       "   ceiling_height  \n",
       "0             3.2  \n",
       "1             2.8  \n",
       "2             2.8  \n",
       "3             3.0  \n",
       "4             2.8  "
      ]
     },
     "execution_count": 120,
     "metadata": {},
     "output_type": "execute_result"
    }
   ],
   "source": [
    "df_num.head(5)"
   ]
  },
  {
   "cell_type": "code",
   "execution_count": 165,
   "metadata": {},
   "outputs": [
    {
     "name": "stdout",
     "output_type": "stream",
     "text": [
      "(4000, 6) (4000,)\n",
      "(1000, 6) (1000,)\n"
     ]
    }
   ],
   "source": [
    "X_train, X_test, y_train, y_test = train_test_split(df_num, y, test_size=0.2)\n",
    "print (X_train.shape, y_train.shape)\n",
    "print (X_test.shape, y_test.shape)"
   ]
  },
  {
   "cell_type": "code",
   "execution_count": 166,
   "metadata": {},
   "outputs": [],
   "source": [
    "# fit a model\n",
    "lm = linear_model.LinearRegression()\n",
    "model_2 = lm.fit(X_train, y_train)\n",
    "predictions = lm.predict(X_test)"
   ]
  },
  {
   "cell_type": "code",
   "execution_count": 167,
   "metadata": {},
   "outputs": [
    {
     "data": {
      "text/plain": [
       "Text(0, 0.5, 'Predictions')"
      ]
     },
     "execution_count": 167,
     "metadata": {},
     "output_type": "execute_result"
    },
    {
     "data": {
      "image/png": "[encoded data removed]",
      "text/plain": [
       "<Figure size 432x288 with 1 Axes>"
      ]
     },
     "metadata": {
      "needs_background": "light"
     },
     "output_type": "display_data"
    }
   ],
   "source": [
    "## The line / model\n",
    "plt.scatter(y_test, predictions)\n",
    "plt.xlabel('True Values')\n",
    "plt.ylabel('Predictions')"
   ]
  },
  {
   "cell_type": "code",
   "execution_count": 168,
   "metadata": {},
   "outputs": [
    {
     "name": "stdout",
     "output_type": "stream",
     "text": [
      "Test RMSE: 34758.74874334502\n",
      "Train RMSE: 37169.430437874915\n"
     ]
    }
   ],
   "source": [
    "print ('Test RMSE:', np.sqrt(mean_squared_error(predictions, y_test)))\n",
    "print ('Train RMSE:', np.sqrt(mean_squared_error(lm.predict(X_train), y_train)))"
   ]
  },
  {
   "cell_type": "code",
   "execution_count": 169,
   "metadata": {},
   "outputs": [
    {
     "name": "stdout",
     "output_type": "stream",
     "text": [
      "Coefficients: \n",
      " [-6.75070922e+01 -1.34402460e+04  1.40219905e+03  2.02035497e+04\n",
      "  1.62626105e+01  7.57112053e+04]\n",
      "Mean absolute error: 25364.75\n",
      "Mean squared error: 1208170614.20\n",
      "Root mean squared error: 34758.75\n",
      "R-squared: 0.49\n"
     ]
    }
   ],
   "source": [
    "# The coefficients\n",
    "print('Coefficients: \\n', lm.coef_)\n",
    "# The mean squared error\n",
    "print('Mean absolute error: %.2f'\n",
    "      % mean_absolute_error(y_test, predictions))\n",
    "\n",
    "print('Mean squared error: %.2f'\n",
    "      % mean_squared_error(y_test, predictions))\n",
    "\n",
    "print('Root mean squared error: %.2f'\n",
    "      % np.sqrt(mean_squared_error(y_test, predictions)))\n",
    "\n",
    "print('R-squared: %.2f'\n",
    "      % r2_score(y_test,predictions))"
   ]
  },
  {
   "cell_type": "code",
   "execution_count": 170,
   "metadata": {},
   "outputs": [
    {
     "data": {
      "text/plain": [
       "-234365.17783679388"
      ]
     },
     "execution_count": 170,
     "metadata": {},
     "output_type": "execute_result"
    }
   ],
   "source": [
    "lm.intercept_  "
   ]
  },
  {
   "cell_type": "code",
   "execution_count": 125,
   "metadata": {},
   "outputs": [],
   "source": [
    "## We drop region as it only in Yerevan , and this feature do not add additional value\n",
    "df=df.drop(['region'],axis=1)"
   ]
  },
  {
   "cell_type": "code",
   "execution_count": null,
   "metadata": {},
   "outputs": [],
   "source": [
    "# the big issue in the model I think is a negative intercept,\n",
    "##as any house should have inishial price which does not depend on features of the hause\n",
    "#In our model we get negative inshial price, which mean the price is negative if X=0(all features 0)"
   ]
  },
  {
   "cell_type": "code",
   "execution_count": 171,
   "metadata": {},
   "outputs": [
    {
     "data": {
      "text/html": [
       "<div>\n",
       "<style scoped>\n",
       "    .dataframe tbody tr th:only-of-type {\n",
       "        vertical-align: middle;\n",
       "    }\n",
       "\n",
       "    .dataframe tbody tr th {\n",
       "        vertical-align: top;\n",
       "    }\n",
       "\n",
       "    .dataframe thead th {\n",
       "        text-align: right;\n",
       "    }\n",
       "</style>\n",
       "<table border=\"1\" class=\"dataframe\">\n",
       "  <thead>\n",
       "    <tr style=\"text-align: right;\">\n",
       "      <th></th>\n",
       "      <th>condition</th>\n",
       "      <th>district</th>\n",
       "      <th>max_floor</th>\n",
       "      <th>street</th>\n",
       "      <th>num_rooms</th>\n",
       "      <th>region</th>\n",
       "      <th>area</th>\n",
       "      <th>num_bathrooms</th>\n",
       "      <th>building_type</th>\n",
       "      <th>floor</th>\n",
       "      <th>ceiling_height</th>\n",
       "    </tr>\n",
       "  </thead>\n",
       "  <tbody>\n",
       "    <tr>\n",
       "      <th>0</th>\n",
       "      <td>newly repaired</td>\n",
       "      <td>Center</td>\n",
       "      <td>4</td>\n",
       "      <td>Sayat Nova Ave</td>\n",
       "      <td>3</td>\n",
       "      <td>Yerevan</td>\n",
       "      <td>96.0</td>\n",
       "      <td>1</td>\n",
       "      <td>stone</td>\n",
       "      <td>3</td>\n",
       "      <td>3.2</td>\n",
       "    </tr>\n",
       "    <tr>\n",
       "      <th>1</th>\n",
       "      <td>good</td>\n",
       "      <td>Arabkir</td>\n",
       "      <td>5</td>\n",
       "      <td>Hr.Kochar St</td>\n",
       "      <td>3</td>\n",
       "      <td>Yerevan</td>\n",
       "      <td>78.0</td>\n",
       "      <td>1</td>\n",
       "      <td>stone</td>\n",
       "      <td>2</td>\n",
       "      <td>2.8</td>\n",
       "    </tr>\n",
       "    <tr>\n",
       "      <th>2</th>\n",
       "      <td>good</td>\n",
       "      <td>Center</td>\n",
       "      <td>10</td>\n",
       "      <td>M.Khorenatsi St</td>\n",
       "      <td>3</td>\n",
       "      <td>Yerevan</td>\n",
       "      <td>90.0</td>\n",
       "      <td>1</td>\n",
       "      <td>panel</td>\n",
       "      <td>3</td>\n",
       "      <td>2.8</td>\n",
       "    </tr>\n",
       "    <tr>\n",
       "      <th>3</th>\n",
       "      <td>newly repaired</td>\n",
       "      <td>Center</td>\n",
       "      <td>14</td>\n",
       "      <td>Argishti St</td>\n",
       "      <td>2</td>\n",
       "      <td>Yerevan</td>\n",
       "      <td>53.0</td>\n",
       "      <td>1</td>\n",
       "      <td>monolit</td>\n",
       "      <td>5</td>\n",
       "      <td>3.0</td>\n",
       "    </tr>\n",
       "    <tr>\n",
       "      <th>4</th>\n",
       "      <td>newly repaired</td>\n",
       "      <td>Center</td>\n",
       "      <td>12</td>\n",
       "      <td>Mashtots Ave</td>\n",
       "      <td>2</td>\n",
       "      <td>Yerevan</td>\n",
       "      <td>47.0</td>\n",
       "      <td>1</td>\n",
       "      <td>panel</td>\n",
       "      <td>3</td>\n",
       "      <td>2.8</td>\n",
       "    </tr>\n",
       "  </tbody>\n",
       "</table>\n",
       "</div>"
      ],
      "text/plain": [
       "        condition district  max_floor           street  num_rooms   region  \\\n",
       "0  newly repaired   Center          4   Sayat Nova Ave          3  Yerevan   \n",
       "1            good  Arabkir          5     Hr.Kochar St          3  Yerevan   \n",
       "2            good   Center         10  M.Khorenatsi St          3  Yerevan   \n",
       "3  newly repaired   Center         14      Argishti St          2  Yerevan   \n",
       "4  newly repaired   Center         12     Mashtots Ave          2  Yerevan   \n",
       "\n",
       "   area  num_bathrooms building_type  floor  ceiling_height  \n",
       "0  96.0              1         stone      3             3.2  \n",
       "1  78.0              1         stone      2             2.8  \n",
       "2  90.0              1         panel      3             2.8  \n",
       "3  53.0              1       monolit      5             3.0  \n",
       "4  47.0              1         panel      3             2.8  "
      ]
     },
     "execution_count": 171,
     "metadata": {},
     "output_type": "execute_result"
    }
   ],
   "source": [
    "df.head()\n",
    "#df=df.drop(['region'],axis=1)"
   ]
  },
  {
   "cell_type": "code",
   "execution_count": 172,
   "metadata": {},
   "outputs": [],
   "source": [
    "df=pd.get_dummies(df)\n"
   ]
  },
  {
   "cell_type": "code",
   "execution_count": 127,
   "metadata": {},
   "outputs": [
    {
     "data": {
      "text/html": [
       "<div>\n",
       "<style scoped>\n",
       "    .dataframe tbody tr th:only-of-type {\n",
       "        vertical-align: middle;\n",
       "    }\n",
       "\n",
       "    .dataframe tbody tr th {\n",
       "        vertical-align: top;\n",
       "    }\n",
       "\n",
       "    .dataframe thead th {\n",
       "        text-align: right;\n",
       "    }\n",
       "</style>\n",
       "<table border=\"1\" class=\"dataframe\">\n",
       "  <thead>\n",
       "    <tr style=\"text-align: right;\">\n",
       "      <th></th>\n",
       "      <th>Unnamed: 0</th>\n",
       "      <th>condition</th>\n",
       "      <th>district</th>\n",
       "      <th>max_floor</th>\n",
       "      <th>street</th>\n",
       "      <th>num_rooms</th>\n",
       "      <th>area</th>\n",
       "      <th>num_bathrooms</th>\n",
       "      <th>building_type</th>\n",
       "      <th>floor</th>\n",
       "      <th>ceiling_height</th>\n",
       "    </tr>\n",
       "  </thead>\n",
       "  <tbody>\n",
       "    <tr>\n",
       "      <th>0</th>\n",
       "      <td>5546</td>\n",
       "      <td>newly repaired</td>\n",
       "      <td>Center</td>\n",
       "      <td>4</td>\n",
       "      <td>Sayat Nova Ave</td>\n",
       "      <td>3</td>\n",
       "      <td>96.0</td>\n",
       "      <td>1</td>\n",
       "      <td>stone</td>\n",
       "      <td>3</td>\n",
       "      <td>3.2</td>\n",
       "    </tr>\n",
       "    <tr>\n",
       "      <th>1</th>\n",
       "      <td>2979</td>\n",
       "      <td>good</td>\n",
       "      <td>Arabkir</td>\n",
       "      <td>5</td>\n",
       "      <td>Hr.Kochar St</td>\n",
       "      <td>3</td>\n",
       "      <td>78.0</td>\n",
       "      <td>1</td>\n",
       "      <td>stone</td>\n",
       "      <td>2</td>\n",
       "      <td>2.8</td>\n",
       "    </tr>\n",
       "    <tr>\n",
       "      <th>2</th>\n",
       "      <td>2698</td>\n",
       "      <td>good</td>\n",
       "      <td>Center</td>\n",
       "      <td>10</td>\n",
       "      <td>M.Khorenatsi St</td>\n",
       "      <td>3</td>\n",
       "      <td>90.0</td>\n",
       "      <td>1</td>\n",
       "      <td>panel</td>\n",
       "      <td>3</td>\n",
       "      <td>2.8</td>\n",
       "    </tr>\n",
       "    <tr>\n",
       "      <th>3</th>\n",
       "      <td>4548</td>\n",
       "      <td>newly repaired</td>\n",
       "      <td>Center</td>\n",
       "      <td>14</td>\n",
       "      <td>Argishti St</td>\n",
       "      <td>2</td>\n",
       "      <td>53.0</td>\n",
       "      <td>1</td>\n",
       "      <td>monolit</td>\n",
       "      <td>5</td>\n",
       "      <td>3.0</td>\n",
       "    </tr>\n",
       "    <tr>\n",
       "      <th>4</th>\n",
       "      <td>2982</td>\n",
       "      <td>newly repaired</td>\n",
       "      <td>Center</td>\n",
       "      <td>12</td>\n",
       "      <td>Mashtots Ave</td>\n",
       "      <td>2</td>\n",
       "      <td>47.0</td>\n",
       "      <td>1</td>\n",
       "      <td>panel</td>\n",
       "      <td>3</td>\n",
       "      <td>2.8</td>\n",
       "    </tr>\n",
       "  </tbody>\n",
       "</table>\n",
       "</div>"
      ],
      "text/plain": [
       "   Unnamed: 0       condition district  max_floor           street  num_rooms  \\\n",
       "0        5546  newly repaired   Center          4   Sayat Nova Ave          3   \n",
       "1        2979            good  Arabkir          5     Hr.Kochar St          3   \n",
       "2        2698            good   Center         10  M.Khorenatsi St          3   \n",
       "3        4548  newly repaired   Center         14      Argishti St          2   \n",
       "4        2982  newly repaired   Center         12     Mashtots Ave          2   \n",
       "\n",
       "   area  num_bathrooms building_type  floor  ceiling_height  \n",
       "0  96.0              1         stone      3             3.2  \n",
       "1  78.0              1         stone      2             2.8  \n",
       "2  90.0              1         panel      3             2.8  \n",
       "3  53.0              1       monolit      5             3.0  \n",
       "4  47.0              1         panel      3             2.8  "
      ]
     },
     "execution_count": 127,
     "metadata": {},
     "output_type": "execute_result"
    }
   ],
   "source": [
    "df.head(5)"
   ]
  },
  {
   "cell_type": "code",
   "execution_count": 173,
   "metadata": {},
   "outputs": [
    {
     "name": "stdout",
     "output_type": "stream",
     "text": [
      "(4000, 363) (4000,)\n",
      "(1000, 363) (1000,)\n"
     ]
    }
   ],
   "source": [
    "X_train, X_test, y_train, y_test = train_test_split(df, y, test_size=0.2)\n",
    "print (X_train.shape, y_train.shape)\n",
    "print (X_test.shape, y_test.shape)"
   ]
  },
  {
   "cell_type": "code",
   "execution_count": 174,
   "metadata": {},
   "outputs": [],
   "source": [
    "# fit a model\n",
    "lm = linear_model.LinearRegression()\n",
    "model_3 = lm.fit(X_train, y_train)\n",
    "predictions = lm.predict(X_test)"
   ]
  },
  {
   "cell_type": "code",
   "execution_count": 96,
   "metadata": {},
   "outputs": [
    {
     "data": {
      "text/plain": [
       "(array([-2.42193069e-01,  4.72702499e+02, -2.10780506e+03,  1.06952863e+03,\n",
       "         1.07926696e+04, -5.08302341e+02,  1.46022895e+04,  1.24705684e+12,\n",
       "         1.24705685e+12,  1.24705682e+12, -3.96504818e+11, -4.43795418e+11,\n",
       "        -1.37248349e+12, -6.03384895e+11, -5.48041346e+11, -4.80283077e+11,\n",
       "        -9.27004453e+11, -5.48041357e+11, -2.75814282e+12,  1.12372740e+11,\n",
       "        -2.89602390e+11, -6.03384906e+11, -8.24035749e+11, -2.59474928e+11,\n",
       "        -1.52572524e+11, -1.52572529e+11, -1.52572514e+11, -1.05281896e+11,\n",
       "         3.77927120e+11, -1.03597164e+09, -1.05281890e+11, -2.59474928e+11,\n",
       "        -2.59474940e+11,  5.43075914e+10,  5.43076157e+10, -1.05281910e+11,\n",
       "        -1.52572513e+11,  5.43076361e+10,  8.23406158e+11, -1.05281898e+11,\n",
       "         5.43075957e+10,  2.07431995e+11,  5.43076080e+10, -1.05281900e+11,\n",
       "        -1.52572492e+11,  5.43076279e+10,  5.43076125e+10, -1.05281914e+11,\n",
       "        -1.05281897e+11, -1.05281885e+11, -1.05281873e+11, -1.05281778e+11,\n",
       "        -1.05281897e+11, -1.05281916e+11, -1.05281902e+11, -1.05281885e+11,\n",
       "         3.96066160e+11,  1.56487519e+11,  5.43076520e+10,  3.77927114e+11,\n",
       "         5.43075883e+10,  5.43075730e+10,  8.23406158e+11,  2.20906554e+12,\n",
       "         5.43075772e+10,  5.43075810e+10, -6.87942569e+10, -6.87942513e+10,\n",
       "        -1.05281895e+11, -1.52572511e+11, -6.87942541e+10, -2.07482719e+11,\n",
       "         8.23406169e+11,  8.23406163e+11, -6.87942629e+10,  6.57570070e+10,\n",
       "        -1.05281895e+11, -1.05281896e+11, -1.05281878e+11,  5.43075918e+10,\n",
       "         5.43075897e+10,  5.43075893e+10,  5.43075667e+10, -6.87942404e+10,\n",
       "        -1.05281897e+11, -1.05281925e+11, -2.59474926e+11, -1.05281916e+11,\n",
       "        -1.03597533e+09, -1.05281822e+11,  5.43076704e+10,  5.43076098e+10,\n",
       "        -1.05281882e+11,  5.43075253e+10,  5.43075741e+10,  5.43075784e+10,\n",
       "        -1.03595394e+09, -1.03596297e+09, -1.05281900e+11, -1.52572542e+11,\n",
       "        -1.52572530e+11, -1.52572522e+11, -7.37443295e+10, -1.03596239e+09,\n",
       "        -1.03596804e+09,  5.43076336e+10, -1.52572526e+11,  5.43075879e+10,\n",
       "         8.23406174e+11,  5.43076534e+10,  5.43075996e+10,  8.23406162e+11,\n",
       "         5.43075723e+10,  5.43076066e+10, -1.03597104e+09, -2.59474920e+11,\n",
       "         1.23944551e+11, -1.03599146e+09, -1.03597910e+09, -1.03597393e+09,\n",
       "        -1.03598237e+09,  8.36577205e+10, -1.03598293e+09, -1.03599073e+09,\n",
       "        -1.03598716e+09,  5.43076558e+10, -2.59474927e+11,  8.23406168e+11,\n",
       "        -1.03597071e+09,  5.43076181e+10,  5.43075833e+10, -2.59474962e+11,\n",
       "        -6.87942846e+10, -6.87942441e+10, -1.52572522e+11,  5.43075563e+10,\n",
       "         5.43075488e+10,  5.43075625e+10,  5.43075776e+10, -1.52572492e+11,\n",
       "        -1.52572506e+11,  3.04874027e+09,  5.43076080e+10, -1.03597986e+09,\n",
       "         5.43075821e+10, -1.03596621e+09, -1.05281918e+11,  5.43076162e+10,\n",
       "         5.43075664e+10, -6.87942352e+10, -2.59474938e+11, -1.05281897e+11,\n",
       "        -1.05281896e+11,  3.77927116e+11, -1.05281883e+11, -1.03597699e+09,\n",
       "        -1.03596414e+09, -1.03597506e+09,  5.43075981e+10, -1.05281890e+11,\n",
       "        -1.52572505e+11, -1.05281892e+11,  5.43076199e+10,  5.43076912e+10,\n",
       "        -2.59474931e+11, -1.52572514e+11,  5.43075805e+10,  5.43076236e+10,\n",
       "         8.23406171e+11, -1.05281898e+11, -1.05281892e+11, -1.05281893e+11,\n",
       "         5.43076555e+10,  8.23406161e+11,  5.43075661e+10,  3.77927110e+11,\n",
       "         5.43075939e+10, -1.52572489e+11, -1.03597677e+09, -2.59474932e+11,\n",
       "         5.43075895e+10, -1.05281871e+11, -2.59474951e+11, -2.59474921e+11,\n",
       "        -2.59474944e+11,  1.36477655e+11, -1.03599257e+09, -1.05281881e+11,\n",
       "        -1.05281877e+11, -6.87942618e+10,  5.43075961e+10, -1.05281845e+11,\n",
       "         5.43075782e+10,  8.23406165e+11, -1.05281889e+11,  5.43076105e+10,\n",
       "         5.43076127e+10, -1.05281888e+11,  5.43075933e+10,  5.43075918e+10,\n",
       "        -7.35839309e+09,  3.77927117e+11,  3.77927135e+11,  5.43076137e+10,\n",
       "        -1.52572508e+11,  5.43075988e+10, -2.59474953e+11, -2.59474947e+11,\n",
       "         5.43075878e+10, -1.52572510e+11, -1.03597589e+09, -1.03597005e+09,\n",
       "        -2.59474933e+11,  5.43076276e+10,  1.75936675e+04, -2.59474956e+11,\n",
       "         5.43075869e+10,  3.77927113e+11, -1.05281899e+11,  5.43075736e+10,\n",
       "         5.43075750e+10,  3.77927093e+11, -1.05281924e+11, -1.03599954e+09,\n",
       "        -1.03596675e+09, -1.52572512e+11, -1.52572512e+11, -1.52572516e+11,\n",
       "         5.43076232e+10, -1.03598034e+09,  5.43075662e+10,  5.43075915e+10,\n",
       "        -1.52572515e+11,  3.77927136e+11, -1.03598247e+09, -1.03597960e+09,\n",
       "        -1.03596677e+09,  5.43076395e+10, -1.03598786e+09, -6.87942672e+10,\n",
       "         5.43075765e+10, -1.05281893e+11, -1.05281890e+11,  5.43076196e+10,\n",
       "        -1.03596830e+09,  5.43075982e+10,  5.43075834e+10,  8.23406160e+11,\n",
       "        -1.52572518e+11, -2.59474905e+11, -2.59474939e+11, -1.05281900e+11,\n",
       "         5.43075795e+10, -6.87942475e+10, -6.87942521e+10, -3.86984993e-07,\n",
       "        -6.87942595e+10, -6.87942370e+10, -1.52572523e+11, -2.59474918e+11,\n",
       "         2.20906555e+12, -1.03597693e+09,  1.68774568e-06, -1.03597754e+09,\n",
       "        -1.03598147e+09, -1.03599203e+09,  5.43077545e+10, -6.61450081e+11,\n",
       "         3.77927122e+11, -1.05281896e+11,  5.43075978e+10, -1.03598611e+09,\n",
       "        -2.29974830e-07,  5.43076332e+10,  8.23406176e+11,  3.77927118e+11,\n",
       "        -2.59474928e+11, -1.05281914e+11, -1.05281900e+11,  5.43075822e+10,\n",
       "        -6.87942358e+10, -2.59474934e+11, -1.03596978e+09, -1.03596866e+09,\n",
       "        -6.87942694e+10, -6.87942836e+10,  5.43075952e+10,  5.43076100e+10,\n",
       "        -1.03595290e+09,  5.43076221e+10,  5.43076331e+10,  8.23406180e+11,\n",
       "         3.77927116e+11,  3.77927124e+11, -2.59474933e+11, -1.05281889e+11,\n",
       "        -1.05281892e+11,  3.77927051e+11,  5.43075443e+10,  5.43075729e+10,\n",
       "        -1.52572510e+11,  5.43075702e+10, -1.52572529e+11, -1.05281901e+11,\n",
       "        -1.03598755e+09, -1.03596273e+09, -1.52572512e+11, -1.05281895e+11,\n",
       "         5.43076408e+10, -1.03598302e+09, -1.05281900e+11, -1.05281872e+11,\n",
       "         3.77927119e+11,  5.43075818e+10,  5.43075605e+10,  5.43076275e+10,\n",
       "         5.43076961e+10,  5.43075811e+10, -1.05281907e+11, -2.59474954e+11,\n",
       "         5.43076433e+10, -5.08432006e-08,  5.43075862e+10,  4.16275725e-08,\n",
       "        -6.87942456e+10, -1.03597627e+09, -1.05281878e+11,  5.43076109e+10,\n",
       "         3.77927128e+11,  8.23406154e+11,  3.77927106e+11,  5.43075815e+10,\n",
       "         5.43076008e+10,  5.43076258e+10,  5.43076338e+10,  8.23406173e+11,\n",
       "        -4.95347194e-08, -1.05281888e+11, -1.05281893e+11,  2.74958428e+11,\n",
       "         5.43076164e+10,  5.43075857e+10, -6.87942419e+10, -1.03594400e+09,\n",
       "         5.43076121e+10,  5.43075911e+10,  5.43075846e+10, -1.03598825e+09,\n",
       "        -1.05281905e+11, -1.21638533e-11, -1.05281904e+11,  5.43075828e+10,\n",
       "         5.43076420e+10, -1.05281885e+11, -2.59474932e+11, -2.59474931e+11,\n",
       "         3.77927124e+11,  5.43076051e+10,  5.43075758e+10,  2.35428302e+12,\n",
       "         2.35428301e+12,  2.35428300e+12,  2.35428301e+12]),\n",
       " -3052262595859.951)"
      ]
     },
     "execution_count": 96,
     "metadata": {},
     "output_type": "execute_result"
    }
   ],
   "source": [
    "lm.coef_, lm.intercept_  "
   ]
  },
  {
   "cell_type": "code",
   "execution_count": 176,
   "metadata": {},
   "outputs": [
    {
     "data": {
      "text/plain": [
       "Text(0, 0.5, 'Predictions')"
      ]
     },
     "execution_count": 176,
     "metadata": {},
     "output_type": "execute_result"
    },
    {
     "data": {
      "image/png": "[encoded data removed]",
      "text/plain": [
       "<Figure size 432x288 with 1 Axes>"
      ]
     },
     "metadata": {
      "needs_background": "light"
     },
     "output_type": "display_data"
    }
   ],
   "source": [
    "## The line / model\n",
    "plt.scatter(y_test, predictions)\n",
    "plt.plot(y_test)\n",
    "plt.xlabel('True Values')\n",
    "plt.ylabel('Predictions')"
   ]
  },
  {
   "cell_type": "code",
   "execution_count": 177,
   "metadata": {},
   "outputs": [
    {
     "name": "stdout",
     "output_type": "stream",
     "text": [
      "Test RMSE: 8771814518430.014\n",
      "Train RMSE: 22191.31606370778\n"
     ]
    }
   ],
   "source": [
    "print ('Test RMSE:', np.sqrt(mean_squared_error(predictions, y_test)))\n",
    "print ('Train RMSE:', np.sqrt(mean_squared_error(lm.predict(X_train), y_train)))"
   ]
  },
  {
   "cell_type": "code",
   "execution_count": 178,
   "metadata": {},
   "outputs": [
    {
     "name": "stdout",
     "output_type": "stream",
     "text": [
      "Coefficients: \n",
      " [ 3.01060660e+02 -2.11885714e+03  1.07641070e+03  9.77881570e+03\n",
      " -4.83802994e+02  1.29369097e+04  4.59156603e+14  4.59156603e+14\n",
      "  4.59156603e+14  5.30347659e+14  6.49047460e+14  6.62912248e+14\n",
      "  6.06894744e+14  6.50857236e+14  6.60728534e+14  6.54459622e+14\n",
      "  6.50857236e+14  3.74020918e+14  3.83929642e+14  7.99099025e+14\n",
      "  6.06894744e+14  2.52473820e+14 -1.57904900e+14  1.10846467e+14\n",
      "  1.10846467e+14  1.10846467e+14 -7.85333490e+12 -1.32654964e+13\n",
      " -9.66311011e+12 -7.85333490e+12 -1.57904900e+14 -1.57904900e+14\n",
      "  3.42993820e+13  3.42993820e+13 -7.85333491e+12  1.10846467e+14\n",
      "  3.42993820e+13 -2.17181228e+13 -7.85333490e+12  3.42993819e+13\n",
      "  5.12197423e+13  3.42993820e+13 -7.85333491e+12  1.10846467e+14\n",
      "  3.42993820e+13  3.42993820e+13 -1.89419703e+12 -7.85333489e+12\n",
      " -7.85333490e+12 -7.85333487e+12 -7.85333478e+12 -7.85333490e+12\n",
      " -7.85333492e+12 -7.85333491e+12 -7.85333489e+12  3.42993819e+13\n",
      "  1.10846467e+14  3.42993820e+13 -1.32654964e+13  3.42993819e+13\n",
      "  3.42993819e+13 -2.17181228e+13  2.67173208e+14  3.42993819e+13\n",
      "  3.42993819e+13 -1.95344083e+13 -1.95344083e+13 -7.85333490e+12\n",
      "  1.10846467e+14 -1.95344083e+13 -2.17181228e+13 -2.17181228e+13\n",
      " -2.17181228e+13 -1.95344083e+13 -1.57904900e+14 -7.85333490e+12\n",
      " -7.85333490e+12 -7.85333488e+12  3.42993819e+13  3.42993819e+13\n",
      "  3.42993819e+13  3.42993819e+13 -1.95344083e+13 -7.85333490e+12\n",
      " -7.85333493e+12 -1.57904900e+14 -7.85333491e+12 -9.66311011e+12\n",
      " -7.85333486e+12  3.42993820e+13  3.42993820e+13 -7.85333489e+12\n",
      "  3.42993819e+13 -1.57002355e+13  3.42993819e+13 -9.66311010e+12\n",
      " -9.66311011e+12 -6.39889373e+13  1.10846467e+14  1.10846467e+14\n",
      "  1.10846467e+14 -9.66311011e+12 -1.66065703e+13 -9.66311011e+12\n",
      "  3.42993820e+13  1.10846467e+14  3.42993819e+13 -2.17181228e+13\n",
      "  3.42993820e+13  3.42993820e+13 -2.17181228e+13  3.42993819e+13\n",
      "  3.42993820e+13 -9.66311012e+12 -1.57904900e+14 -9.66311011e+12\n",
      " -9.66311014e+12 -9.66311012e+12 -9.66311011e+12 -9.66311012e+12\n",
      " -9.66311012e+12 -9.66311012e+12 -9.66311013e+12 -9.66311013e+12\n",
      "  3.85642381e+13 -1.57904900e+14 -2.17181228e+13 -9.66311011e+12\n",
      "  3.42993820e+13  3.42993819e+13 -2.68388895e+13 -1.95344083e+13\n",
      " -1.95344083e+13  7.37432195e+13  3.42993819e+13 -1.11167419e+13\n",
      "  3.42993819e+13  3.42993819e+13  1.10846467e+14  1.10846467e+14\n",
      "  3.42993819e+13  3.42993819e+13 -9.66311012e+12  3.42993819e+13\n",
      " -9.66311011e+12 -7.85333494e+12  3.42993820e+13  3.42993819e+13\n",
      " -1.95344083e+13 -1.57904900e+14 -7.85333490e+12 -7.85333492e+12\n",
      " -1.32654964e+13 -7.85333489e+12 -9.66311012e+12 -9.66311010e+12\n",
      " -9.66311012e+12  3.42993819e+13 -7.85333489e+12  1.10846467e+14\n",
      " -7.85333490e+12  3.42993820e+13  3.42993820e+13 -1.57904900e+14\n",
      "  1.10846467e+14  3.42993819e+13  3.42993820e+13 -2.17181228e+13\n",
      " -7.85333490e+12 -7.85333490e+12 -7.85333490e+12  3.42993820e+13\n",
      " -2.17181228e+13  3.42993819e+13 -1.32654964e+13  3.42993819e+13\n",
      "  1.10846467e+14 -9.66311012e+12 -1.57904900e+14  3.42993819e+13\n",
      " -7.85333488e+12 -1.57904900e+14 -1.57904900e+14 -1.57904900e+14\n",
      " -1.57904900e+14 -9.66311013e+12 -7.85333489e+12 -7.85333488e+12\n",
      " -1.95344083e+13  3.42993819e+13 -7.85333485e+12  3.42993819e+13\n",
      " -2.17181228e+13 -7.85333489e+12  3.42993820e+13  3.42993820e+13\n",
      " -7.85333489e+12 -1.20749932e+13  3.42993819e+13  3.42993819e+13\n",
      " -1.32654964e+13 -1.32654964e+13  3.42993820e+13  1.10846467e+14\n",
      "  3.42993819e+13 -1.57904900e+14 -1.57904900e+14  3.42993819e+13\n",
      "  1.10846467e+14 -9.66311011e+12 -3.64377842e+07 -1.57904900e+14\n",
      "  3.42993820e+13 -1.57904900e+14 -1.57904900e+14  3.42993819e+13\n",
      " -1.32654964e+13 -7.85333490e+12  3.42993819e+13  3.42993819e+13\n",
      " -1.32654964e+13 -7.85333493e+12 -9.66311013e+12 -9.66311011e+12\n",
      "  1.10846467e+14  1.10846467e+14  1.10846467e+14  3.42993820e+13\n",
      " -9.66311012e+12  3.42993819e+13  2.50000000e-01  1.10846467e+14\n",
      " -1.32654964e+13 -9.66311012e+12 -9.66311011e+12 -9.66311011e+12\n",
      "  3.42993820e+13 -9.66311013e+12 -1.95344083e+13  3.42993819e+13\n",
      " -7.85333490e+12 -7.85333489e+12  3.42993820e+13 -9.66311011e+12\n",
      "  3.42993819e+13  3.42993819e+13 -2.17181228e+13  1.10846467e+14\n",
      " -1.57904900e+14 -1.57904900e+14 -7.85333490e+12  3.42993819e+13\n",
      " -1.95344083e+13 -1.95344083e+13 -1.95344083e+13 -1.95344083e+13\n",
      " -1.95344083e+13  1.10846467e+14 -1.57904900e+14  2.67173208e+14\n",
      " -9.66311012e+12  2.67173208e+14 -9.66311011e+12 -9.66311012e+12\n",
      " -9.66311013e+12  3.42993821e+13  2.57264484e+14 -1.32654964e+13\n",
      " -7.85333490e+12  3.42993819e+13 -9.66311012e+12  3.42993819e+13\n",
      "  3.42993820e+13 -2.17181228e+13 -1.32654964e+13 -1.57904900e+14\n",
      " -7.85333492e+12 -7.85333491e+12  3.42993819e+13 -1.95344083e+13\n",
      " -1.57904900e+14 -9.66311011e+12 -9.66311010e+12 -1.95344083e+13\n",
      " -1.95344083e+13  3.42993819e+13  3.42993820e+13 -9.66311009e+12\n",
      "  3.42993820e+13  3.42993820e+13 -2.17181228e+13 -1.32654964e+13\n",
      " -1.32654964e+13 -1.57904900e+14 -7.85333490e+12 -7.85333490e+12\n",
      " -1.32654964e+13  3.42993819e+13  3.42993819e+13  1.10846467e+14\n",
      "  3.42993819e+13  1.10846467e+14 -7.85333490e+12 -6.20218543e-10\n",
      " -9.66311010e+12  1.10846467e+14 -7.85333490e+12  3.42993820e+13\n",
      " -9.66311013e+12 -7.85333490e+12 -7.85333488e+12 -1.32654964e+13\n",
      "  3.42993819e+13  3.42993819e+13  3.42993820e+13  3.42993820e+13\n",
      "  3.42993819e+13 -7.85333492e+12 -1.57904900e+14  3.42993820e+13\n",
      " -3.49245965e-10  3.42993819e+13  3.42993819e+13 -1.95344083e+13\n",
      " -9.66311013e+12 -7.85333488e+12  3.42993820e+13 -1.32654964e+13\n",
      " -2.17181228e+13 -1.32654964e+13  3.42993819e+13  3.42993819e+13\n",
      "  3.42993820e+13  3.42993820e+13 -2.17181228e+13 -7.85333489e+12\n",
      " -7.85333489e+12 -7.85333490e+12  3.88720306e+14  3.42993820e+13\n",
      "  3.42993819e+13 -1.95344083e+13 -9.66311009e+12  3.42993820e+13\n",
      "  3.42993819e+13  3.42993819e+13 -9.66311013e+12 -7.85333491e+12\n",
      " -7.85333491e+12 -7.85333491e+12  3.42993819e+13  3.42993820e+13\n",
      " -7.85333489e+12 -1.57904900e+14 -1.57904900e+14 -1.32654964e+13\n",
      "  3.42993820e+13  3.42993819e+13 -1.75668902e-09  2.41429598e+15\n",
      "  2.41429598e+15  2.41429598e+15  2.41429598e+15]\n",
      "Mean absolute error: 715413753907.64\n",
      "Mean squared error: 76944729945739573394931712.00\n",
      "Root mean squared error: 8771814518430.01\n",
      "R-squared: -30762465003346008.00\n"
     ]
    }
   ],
   "source": [
    "# The coefficients\n",
    "print('Coefficients: \\n', lm.coef_)\n",
    "# The mean squared error\n",
    "print('Mean absolute error: %.2f'\n",
    "      % mean_absolute_error(y_test, predictions))\n",
    "\n",
    "print('Mean squared error: %.2f'\n",
    "      % mean_squared_error(y_test, predictions))\n",
    "\n",
    "print('Root mean squared error: %.2f'\n",
    "      % np.sqrt(mean_squared_error(y_test, predictions)))\n",
    "\n",
    "print('R-squared: %.2f'\n",
    "      % r2_score(y_test,predictions))"
   ]
  },
  {
   "cell_type": "code",
   "execution_count": 87,
   "metadata": {},
   "outputs": [],
   "source": [
    "import pandas as pd \n",
    "from sklearn.preprocessing import MinMaxScaler"
   ]
  },
  {
   "cell_type": "code",
   "execution_count": 41,
   "metadata": {},
   "outputs": [],
   "source": [
    "# Initialise the Scaler and Fit\n",
    "norm = MinMaxScaler().fit(X_train)"
   ]
  },
  {
   "cell_type": "code",
   "execution_count": 43,
   "metadata": {},
   "outputs": [
    {
     "data": {
      "text/html": [
       "<div>\n",
       "<style scoped>\n",
       "    .dataframe tbody tr th:only-of-type {\n",
       "        vertical-align: middle;\n",
       "    }\n",
       "\n",
       "    .dataframe tbody tr th {\n",
       "        vertical-align: top;\n",
       "    }\n",
       "\n",
       "    .dataframe thead th {\n",
       "        text-align: right;\n",
       "    }\n",
       "</style>\n",
       "<table border=\"1\" class=\"dataframe\">\n",
       "  <thead>\n",
       "    <tr style=\"text-align: right;\">\n",
       "      <th></th>\n",
       "      <th>Unnamed: 0</th>\n",
       "      <th>max_floor</th>\n",
       "      <th>num_rooms</th>\n",
       "      <th>area</th>\n",
       "      <th>num_bathrooms</th>\n",
       "      <th>floor</th>\n",
       "      <th>ceiling_height</th>\n",
       "      <th>condition_good</th>\n",
       "      <th>condition_newly repaired</th>\n",
       "      <th>condition_zero condition</th>\n",
       "      <th>...</th>\n",
       "      <th>street_Z. Sarkavag 3 dead end</th>\n",
       "      <th>street_Z. Sarkavag St</th>\n",
       "      <th>street_Z.Andranik St</th>\n",
       "      <th>street_Zakyan St</th>\n",
       "      <th>street_Zavaryan St</th>\n",
       "      <th>region_Yerevan</th>\n",
       "      <th>building_type_monolit</th>\n",
       "      <th>building_type_other</th>\n",
       "      <th>building_type_panel</th>\n",
       "      <th>building_type_stone</th>\n",
       "    </tr>\n",
       "  </thead>\n",
       "  <tbody>\n",
       "    <tr>\n",
       "      <th>0</th>\n",
       "      <td>0.623459</td>\n",
       "      <td>0.227273</td>\n",
       "      <td>0.2</td>\n",
       "      <td>0.396694</td>\n",
       "      <td>0.0</td>\n",
       "      <td>0.090909</td>\n",
       "      <td>0.500000</td>\n",
       "      <td>0.0</td>\n",
       "      <td>1.0</td>\n",
       "      <td>0.0</td>\n",
       "      <td>...</td>\n",
       "      <td>0.0</td>\n",
       "      <td>0.0</td>\n",
       "      <td>0.0</td>\n",
       "      <td>0.0</td>\n",
       "      <td>0.0</td>\n",
       "      <td>0.0</td>\n",
       "      <td>1.0</td>\n",
       "      <td>0.0</td>\n",
       "      <td>0.0</td>\n",
       "      <td>0.0</td>\n",
       "    </tr>\n",
       "    <tr>\n",
       "      <th>1</th>\n",
       "      <td>0.355843</td>\n",
       "      <td>0.136364</td>\n",
       "      <td>0.2</td>\n",
       "      <td>0.214876</td>\n",
       "      <td>0.0</td>\n",
       "      <td>0.045455</td>\n",
       "      <td>0.166667</td>\n",
       "      <td>1.0</td>\n",
       "      <td>0.0</td>\n",
       "      <td>0.0</td>\n",
       "      <td>...</td>\n",
       "      <td>0.0</td>\n",
       "      <td>0.0</td>\n",
       "      <td>0.0</td>\n",
       "      <td>0.0</td>\n",
       "      <td>0.0</td>\n",
       "      <td>0.0</td>\n",
       "      <td>1.0</td>\n",
       "      <td>0.0</td>\n",
       "      <td>0.0</td>\n",
       "      <td>0.0</td>\n",
       "    </tr>\n",
       "    <tr>\n",
       "      <th>2</th>\n",
       "      <td>0.619348</td>\n",
       "      <td>0.181818</td>\n",
       "      <td>0.4</td>\n",
       "      <td>0.413223</td>\n",
       "      <td>0.0</td>\n",
       "      <td>0.227273</td>\n",
       "      <td>0.166667</td>\n",
       "      <td>1.0</td>\n",
       "      <td>0.0</td>\n",
       "      <td>0.0</td>\n",
       "      <td>...</td>\n",
       "      <td>0.0</td>\n",
       "      <td>0.0</td>\n",
       "      <td>0.0</td>\n",
       "      <td>0.0</td>\n",
       "      <td>0.0</td>\n",
       "      <td>0.0</td>\n",
       "      <td>0.0</td>\n",
       "      <td>0.0</td>\n",
       "      <td>0.0</td>\n",
       "      <td>1.0</td>\n",
       "    </tr>\n",
       "    <tr>\n",
       "      <th>3</th>\n",
       "      <td>0.167205</td>\n",
       "      <td>0.181818</td>\n",
       "      <td>0.2</td>\n",
       "      <td>0.231405</td>\n",
       "      <td>0.0</td>\n",
       "      <td>0.181818</td>\n",
       "      <td>0.166667</td>\n",
       "      <td>1.0</td>\n",
       "      <td>0.0</td>\n",
       "      <td>0.0</td>\n",
       "      <td>...</td>\n",
       "      <td>0.0</td>\n",
       "      <td>0.0</td>\n",
       "      <td>0.0</td>\n",
       "      <td>0.0</td>\n",
       "      <td>0.0</td>\n",
       "      <td>0.0</td>\n",
       "      <td>0.0</td>\n",
       "      <td>0.0</td>\n",
       "      <td>0.0</td>\n",
       "      <td>1.0</td>\n",
       "    </tr>\n",
       "    <tr>\n",
       "      <th>4</th>\n",
       "      <td>0.446712</td>\n",
       "      <td>0.090909</td>\n",
       "      <td>0.4</td>\n",
       "      <td>0.388430</td>\n",
       "      <td>0.0</td>\n",
       "      <td>0.090909</td>\n",
       "      <td>0.333333</td>\n",
       "      <td>1.0</td>\n",
       "      <td>0.0</td>\n",
       "      <td>0.0</td>\n",
       "      <td>...</td>\n",
       "      <td>0.0</td>\n",
       "      <td>0.0</td>\n",
       "      <td>0.0</td>\n",
       "      <td>0.0</td>\n",
       "      <td>0.0</td>\n",
       "      <td>0.0</td>\n",
       "      <td>0.0</td>\n",
       "      <td>0.0</td>\n",
       "      <td>0.0</td>\n",
       "      <td>1.0</td>\n",
       "    </tr>\n",
       "  </tbody>\n",
       "</table>\n",
       "<p>5 rows × 364 columns</p>\n",
       "</div>"
      ],
      "text/plain": [
       "   Unnamed: 0  max_floor  num_rooms      area  num_bathrooms     floor  \\\n",
       "0    0.623459   0.227273        0.2  0.396694            0.0  0.090909   \n",
       "1    0.355843   0.136364        0.2  0.214876            0.0  0.045455   \n",
       "2    0.619348   0.181818        0.4  0.413223            0.0  0.227273   \n",
       "3    0.167205   0.181818        0.2  0.231405            0.0  0.181818   \n",
       "4    0.446712   0.090909        0.4  0.388430            0.0  0.090909   \n",
       "\n",
       "   ceiling_height  condition_good  condition_newly repaired  \\\n",
       "0        0.500000             0.0                       1.0   \n",
       "1        0.166667             1.0                       0.0   \n",
       "2        0.166667             1.0                       0.0   \n",
       "3        0.166667             1.0                       0.0   \n",
       "4        0.333333             1.0                       0.0   \n",
       "\n",
       "   condition_zero condition  ...  street_Z. Sarkavag 3 dead end  \\\n",
       "0                       0.0  ...                            0.0   \n",
       "1                       0.0  ...                            0.0   \n",
       "2                       0.0  ...                            0.0   \n",
       "3                       0.0  ...                            0.0   \n",
       "4                       0.0  ...                            0.0   \n",
       "\n",
       "   street_Z. Sarkavag St  street_Z.Andranik St  street_Zakyan St  \\\n",
       "0                    0.0                   0.0               0.0   \n",
       "1                    0.0                   0.0               0.0   \n",
       "2                    0.0                   0.0               0.0   \n",
       "3                    0.0                   0.0               0.0   \n",
       "4                    0.0                   0.0               0.0   \n",
       "\n",
       "   street_Zavaryan St  region_Yerevan  building_type_monolit  \\\n",
       "0                 0.0             0.0                    1.0   \n",
       "1                 0.0             0.0                    1.0   \n",
       "2                 0.0             0.0                    0.0   \n",
       "3                 0.0             0.0                    0.0   \n",
       "4                 0.0             0.0                    0.0   \n",
       "\n",
       "   building_type_other  building_type_panel  building_type_stone  \n",
       "0                  0.0                  0.0                  0.0  \n",
       "1                  0.0                  0.0                  0.0  \n",
       "2                  0.0                  0.0                  1.0  \n",
       "3                  0.0                  0.0                  1.0  \n",
       "4                  0.0                  0.0                  1.0  \n",
       "\n",
       "[5 rows x 364 columns]"
      ]
     },
     "execution_count": 43,
     "metadata": {},
     "output_type": "execute_result"
    }
   ],
   "source": [
    "df_train=pd.DataFrame(columns = X_train.columns, data = norm.transform(X_train))\n",
    "df_train.head(5)"
   ]
  },
  {
   "cell_type": "code",
   "execution_count": 47,
   "metadata": {},
   "outputs": [
    {
     "name": "stdout",
     "output_type": "stream",
     "text": [
      "(4000, 364) (4000,)\n",
      "(1000, 364) (1000,)\n"
     ]
    }
   ],
   "source": [
    "X_train, X_test, y_train, y_test = train_test_split(df, y, test_size=0.2)\n",
    "print (X_train.shape, y_train.shape)\n",
    "print (X_test.shape, y_test.shape)"
   ]
  },
  {
   "cell_type": "code",
   "execution_count": 88,
   "metadata": {},
   "outputs": [],
   "source": [
    "# fit a model\n",
    "lm = linear_model.LinearRegression()\n",
    "model = lm.fit(X_train, y_train)\n",
    "predictions = lm.predict(X_test)"
   ]
  },
  {
   "cell_type": "code",
   "execution_count": 51,
   "metadata": {},
   "outputs": [],
   "source": [
    "import matplotlib.pyplot as plt"
   ]
  },
  {
   "cell_type": "code",
   "execution_count": 89,
   "metadata": {},
   "outputs": [
    {
     "name": "stdout",
     "output_type": "stream",
     "text": [
      "Coefficients: \n",
      " [-1.78731209e-01  5.07340231e+02 -1.80678883e+03  1.03611223e+03\n",
      "  9.77567371e+03 -4.45156772e+02  1.16992752e+04 -5.49188536e+11\n",
      " -5.49188526e+11 -5.49188555e+11  8.71560077e+12  8.77878291e+12\n",
      "  3.27465966e+12  6.20633971e+12  7.53458161e+12  3.44351246e+12\n",
      "  5.73569151e+11  7.53458159e+12 -1.20903170e+12 -9.00529432e+12\n",
      "  5.52090309e+12  6.20633971e+12  1.04538960e+13  7.25257154e+11\n",
      " -2.46944056e+12 -2.46944056e+12 -2.46944055e+12 -2.53262267e+12\n",
      "  5.67259108e+12 -1.28842137e+12 -2.53262266e+12  7.25257151e+11\n",
      "  7.25257141e+11  3.98205504e+10  3.98205654e+10 -2.53262268e+12\n",
      " -2.46944055e+12  3.98205810e+10  2.97150057e+12 -2.53262267e+12\n",
      "  3.98205404e+10  1.40787530e+12  3.98205676e+10 -2.53262267e+12\n",
      "  4.24278212e+11  3.98205732e+10  3.98205659e+10 -2.53262269e+12\n",
      " -2.53262266e+12 -2.53262266e+12 -2.53262264e+12 -2.53262255e+12\n",
      " -2.53262268e+12 -2.53262269e+12 -2.53262268e+12 -2.53262266e+12\n",
      "  9.74002849e+11 -2.46944052e+12  3.98206053e+10  5.67259107e+12\n",
      "  3.98205344e+10  3.98205233e+10  2.97150057e+12  7.45519198e+12\n",
      "  3.98205251e+10  3.98205269e+10  2.80264777e+12  2.80264777e+12\n",
      " -2.53262267e+12 -2.46944054e+12  2.80264777e+12  2.97150058e+12\n",
      "  2.97150058e+12  2.97150057e+12  2.80264776e+12  7.25257151e+11\n",
      " -2.53262265e+12  2.67301294e+12 -2.53262264e+12 -7.47802352e+11\n",
      "  3.98205398e+10  3.98205400e+10  3.98205226e+10  2.80264778e+12\n",
      " -2.53262267e+12 -2.53262270e+12  7.25257162e+11 -2.53262269e+12\n",
      " -1.28842137e+12 -2.53262259e+12  3.98206051e+10  3.98205639e+10\n",
      " -2.53262265e+12  3.98204945e+10  3.98205206e+10  3.98205241e+10\n",
      " -1.28842134e+12 -1.28842136e+12 -2.53262267e+12 -2.46944057e+12\n",
      " -2.46944056e+12 -2.46944055e+12 -4.29174371e+11 -1.28842135e+12\n",
      " -1.28842136e+12  3.98205798e+10 -2.46944052e+12  3.98205430e+10\n",
      "  2.97150058e+12  3.98205986e+10  3.98205525e+10  2.97150057e+12\n",
      "  3.98205189e+10  3.98205567e+10 -1.28842134e+12  7.25257158e+11\n",
      " -1.28842136e+12 -1.28842139e+12 -1.28842137e+12 -1.28842137e+12\n",
      " -1.28842137e+12  7.80262181e+11 -1.28842138e+12 -1.28842139e+12\n",
      " -1.28842138e+12  3.98206086e+10  7.25257148e+11  2.97150058e+12\n",
      " -1.28842137e+12  3.98205658e+10  3.98205336e+10  7.25257118e+11\n",
      "  2.80264774e+12  2.80264778e+12 -2.46944055e+12  3.98205029e+10\n",
      " -1.04738695e+11  3.98205468e+10  3.98205234e+10 -2.46944053e+12\n",
      " -2.46944054e+12  3.98205300e+10  3.98205521e+10 -1.28842137e+12\n",
      "  3.98205292e+10 -1.28842136e+12 -2.53262269e+12  3.98205669e+10\n",
      "  3.98205163e+10  2.80264779e+12  7.25257141e+11 -2.53262267e+12\n",
      " -2.53262268e+12  5.67259107e+12 -2.53262265e+12 -1.28842137e+12\n",
      " -1.28842136e+12 -1.28842137e+12  3.98205489e+10 -2.53262266e+12\n",
      " -2.46944054e+12 -2.53262266e+12  3.98205661e+10  3.98206427e+10\n",
      "  7.25257149e+11 -2.46944054e+12  3.98205281e+10  3.98205823e+10\n",
      "  2.97150058e+12 -2.53262266e+12 -2.53262267e+12 -2.53262266e+12\n",
      "  3.98206002e+10  2.97150057e+12  3.98205163e+10  5.67259108e+12\n",
      "  3.98205437e+10 -2.46944054e+12 -1.28842137e+12  7.25257143e+11\n",
      "  3.98205372e+10 -2.53262265e+12  7.25257129e+11  7.25257159e+11\n",
      "  7.25257136e+11 -4.55163360e+11 -1.28842138e+12 -2.53262265e+12\n",
      " -2.53262265e+12  2.80264776e+12  3.98205446e+10 -2.53262262e+12\n",
      "  3.98205278e+10  2.97150057e+12 -2.53262266e+12 -2.50215468e+11\n",
      "  3.98205619e+10 -2.53262266e+12  3.98205437e+10  3.98205427e+10\n",
      "  3.98205432e+10  5.67259106e+12  5.67259109e+12  3.98205794e+10\n",
      " -2.46944054e+12  3.98205519e+10  7.25257128e+11  7.25257130e+11\n",
      "  3.98205368e+10 -2.46944054e+12 -1.28842137e+12 -1.28842136e+12\n",
      "  7.25257146e+11  3.98205783e+10  7.25257150e+11 -1.66006540e+04\n",
      "  3.98205376e+10  5.67259108e+12 -2.53262267e+12  3.98205195e+10\n",
      "  3.98205200e+10  5.67259105e+12 -2.53262270e+12 -1.28842138e+12\n",
      " -1.28842133e+12 -2.46944054e+12 -2.46944054e+12 -2.46944054e+12\n",
      "  3.98205728e+10 -1.28842137e+12  3.98205122e+10  3.98205422e+10\n",
      " -2.46944055e+12  5.67259108e+12 -1.28842138e+12 -1.28842137e+12\n",
      " -1.28842136e+12  3.98205913e+10  1.29133463e-03  2.80264775e+12\n",
      "  3.98205225e+10 -2.53262267e+12 -2.53262266e+12  3.98205710e+10\n",
      " -1.28842136e+12  3.98205465e+10  3.98205315e+10  2.97150057e+12\n",
      " -2.46944057e+12  7.25257171e+11  7.25257139e+11 -2.53262267e+12\n",
      "  3.98205249e+10  2.80264778e+12  2.80264777e+12  2.80264779e+12\n",
      "  2.80264776e+12  2.80264777e+12 -2.46944056e+12  7.25257162e+11\n",
      "  1.20853656e-08 -1.28842137e+12  7.45519192e+12 -1.28842137e+12\n",
      " -1.28842137e+12 -1.28842138e+12  3.98206996e+10  1.52514545e+13\n",
      "  5.67259107e+12 -2.53262267e+12  3.98205470e+10 -1.28842138e+12\n",
      "  3.98205364e+10  3.98205776e+10  2.97150057e+12  5.67259107e+12\n",
      "  7.25257152e+11 -2.53262268e+12 -2.53262267e+12  3.98205345e+10\n",
      "  2.80264779e+12  7.25257146e+11 -1.34623406e-08 -1.28842135e+12\n",
      " -1.81335054e-08  2.80264774e+12  3.98205464e+10  3.98205601e+10\n",
      " -1.28842135e+12  3.98205729e+10  3.98205826e+10  2.97150059e+12\n",
      "  5.67259107e+12  5.67259107e+12  7.25257153e+11 -2.53262266e+12\n",
      " -2.53262266e+12  5.67259101e+12  3.98205055e+10  3.98205198e+10\n",
      " -2.46944054e+12 -6.61384547e-09 -2.46944056e+12 -2.53262267e+12\n",
      " -1.28842138e+12 -1.28842135e+12 -2.46944055e+12 -2.53262267e+12\n",
      "  3.98205921e+10 -1.28842137e+12 -2.53262267e+12 -2.53262264e+12\n",
      "  5.67259108e+12  3.98205239e+10 -5.53518475e-09  3.98205778e+10\n",
      "  3.98206388e+10  3.98205270e+10 -2.53262269e+12  7.25257129e+11\n",
      "  3.98205973e+10  5.67259108e+12  3.98205362e+10  3.98205132e+10\n",
      "  2.80264778e+12 -1.28842139e+12 -2.53262266e+12  3.98205609e+10\n",
      "  5.67259108e+12  2.97150056e+12  5.67259106e+12  3.98205331e+10\n",
      "  3.98205129e+10  3.98205758e+10  3.98205817e+10  2.97150058e+12\n",
      " -1.13447221e-09 -2.53262266e+12 -2.53262267e+12 -4.20773578e+12\n",
      "  3.98205656e+10  3.98205362e+10  2.80264778e+12 -1.01429123e-08\n",
      "  3.98205620e+10  3.98205399e+10  3.98205301e+10 -1.28842138e+12\n",
      " -2.53262268e+12  2.27373675e-09 -2.53262268e+12  3.98205335e+10\n",
      "  3.98205977e+10 -2.53262266e+12  7.25257147e+11  7.25257151e+11\n",
      "  5.67259108e+12  3.98205583e+10  3.98205304e+10 -1.15218238e+13\n",
      " -1.15218238e+13 -1.15218238e+13 -1.15218238e+13]\n",
      "Mean absolute error: 39122350215.74\n",
      "Mean squared error: 132185246359272143454208.00\n",
      "Root mean squared error: 363572890022.44\n",
      "R-squared: -44509700270987.60\n"
     ]
    }
   ],
   "source": [
    "# The coefficients\n",
    "print('Coefficients: \\n', lm.coef_)\n",
    "# The mean squared error\n",
    "print('Mean absolute error: %.2f'\n",
    "      % mean_absolute_error(y_test, predictions))\n",
    "\n",
    "print('Mean squared error: %.2f'\n",
    "      % mean_squared_error(y_test, predictions))\n",
    "\n",
    "print('Root mean squared error: %.2f'\n",
    "      % np.sqrt(mean_squared_error(y_test, predictions)))\n",
    "\n",
    "print('R-squared: %.2f'\n",
    "      % r2_score(y_test,predictions))"
   ]
  },
  {
   "cell_type": "code",
   "execution_count": null,
   "metadata": {},
   "outputs": [],
   "source": [
    "The model_2 is better than other featur scaling and Minamax worse model"
   ]
  }
 ],
 "metadata": {
  "kernelspec": {
   "display_name": "Python 3",
   "language": "python",
   "name": "python3"
  },
  "language_info": {
   "codemirror_mode": {
    "name": "ipython",
    "version": 3
   },
   "file_extension": ".py",
   "mimetype": "text/x-python",
   "name": "python",
   "nbconvert_exporter": "python",
   "pygments_lexer": "ipython3",
   "version": "3.7.6"
  }
 },
 "nbformat": 4,
 "nbformat_minor": 4
}
