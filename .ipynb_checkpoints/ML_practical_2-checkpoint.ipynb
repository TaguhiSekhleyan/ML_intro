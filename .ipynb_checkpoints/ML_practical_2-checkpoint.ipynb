{
 "cells": [
  {
   "cell_type": "markdown",
   "metadata": {},
   "source": [
    "ML_Practical_2\n"
   ]
  },
  {
   "cell_type": "markdown",
   "metadata": {},
   "source": [
    "1. Գրեք ֆունկցիա, որը ստանում է 3 integer-ներ որպես argument-ներ ու վերադարձնում է (return) իրենց միջին արժեքը: "
   ]
  },
  {
   "cell_type": "code",
   "execution_count": 21,
   "metadata": {},
   "outputs": [],
   "source": [
    "def meanvalue(x,y,z):\n",
    "    return  (x+y+z)/3\n",
    "    "
   ]
  },
  {
   "cell_type": "code",
   "execution_count": 22,
   "metadata": {},
   "outputs": [
    {
     "data": {
      "text/plain": [
       "2.0"
      ]
     },
     "execution_count": 22,
     "metadata": {},
     "output_type": "execute_result"
    }
   ],
   "source": [
    "meanvalue(1,2,3)"
   ]
  },
  {
   "cell_type": "markdown",
   "metadata": {},
   "source": [
    "2.Գրեք ֆունկցիա, որը ստանում է integer-ների list որպես argument ու վերադարձնում է (return) տվյալ լիստում զույգ թվերի քանակը: \n",
    " "
   ]
  },
  {
   "cell_type": "code",
   "execution_count": 29,
   "metadata": {},
   "outputs": [],
   "source": [
    "def intnum(y):\n",
    "    x=[]\n",
    "    for i in y:\n",
    "        if i%2==0:\n",
    "            x.append(i)\n",
    "    return  len(x)"
   ]
  },
  {
   "cell_type": "code",
   "execution_count": 30,
   "metadata": {},
   "outputs": [
    {
     "data": {
      "text/plain": [
       "3"
      ]
     },
     "execution_count": 30,
     "metadata": {},
     "output_type": "execute_result"
    }
   ],
   "source": [
    "intnum([1,2,3,4,5,6])"
   ]
  },
  {
   "cell_type": "markdown",
   "metadata": {},
   "source": [
    "3.Գրեք ֆունկցիա, որը վերցնում է 1 պարտադիր string տիպի argument ​name​ ու չորոշված քանակով ոչ պարտադիր ոչ-keyword argument-ներ: Ֆունկցիան պետք է հաշվի ոչ պարտադիր argument-ների միջին արժեքը (եթե տրված է որևէ ոչ պարտադիր argument) ու տպի հետևյալը՝եթե տրված է որևէ ոչ պարտադիր argument տպեք “​X​, your average grade is: ​Y​”, որտեղ ​X​-ը  ​name​ argument-ի արժեքն է, իսկ Y-ը ոչ պարտադիր argument-ների միջին արժեքը: Հակառակ դեպքում տպեք “No grades availble for ​X​”, որտեղ ​X​-ը  ​name​ argument-ի արժեքն է: \n",
    " "
   ]
  },
  {
   "cell_type": "code",
   "execution_count": 110,
   "metadata": {},
   "outputs": [],
   "source": [
    "def yourgrade(name,*grades):\n",
    "        ##type(name)=str\n",
    "        if len(grades)>0:\n",
    "            y=sum(grades)/len(grades)\n",
    "            return  y\n",
    "            print(name +',your average grade :'+ str(y))\n",
    "        else:\n",
    "              print('No grades availble for '+ name)"
   ]
  },
  {
   "cell_type": "code",
   "execution_count": 111,
   "metadata": {},
   "outputs": [
    {
     "data": {
      "text/plain": [
       "4.0"
      ]
     },
     "execution_count": 111,
     "metadata": {},
     "output_type": "execute_result"
    }
   ],
   "source": [
    "yourgrade(\"Ann\",1,5,6)"
   ]
  },
  {
   "cell_type": "markdown",
   "metadata": {},
   "source": [
    "4. Ստեղծեք ​Circle ​class-ը, որն ունի հետևյալ attribute-ները՝ ​radius​ և ​color​։ Class-ի ներսում ստեղծեք ​getDesc(self)​ մեթոդը, որը կտպի “A ​color​ circle with radius​ radius​.” ՝ օգտագործելով համապատասխան attribute-ների արժեքները։  Փորձարկեք class-ի աշխատանքը ստեղծելով այդ class-ի object(ներ)։ \n",
    " "
   ]
  },
  {
   "cell_type": "code",
   "execution_count": 159,
   "metadata": {},
   "outputs": [],
   "source": [
    "class Circlclass:\n",
    "    \n",
    "        def __init__(self,radius,color):\n",
    "                     self.radius = radius\n",
    "                     self.color = color\n",
    "        def getDesc(self):\n",
    "            print('A '+ self.color+ ' circle with radius ' +self.radius)"
   ]
  },
  {
   "cell_type": "code",
   "execution_count": 160,
   "metadata": {},
   "outputs": [
    {
     "name": "stdout",
     "output_type": "stream",
     "text": [
      "A blue circle with radius 50\n"
     ]
    }
   ],
   "source": [
    "circl1=Circlclass('50','blue')\n",
    "circl1.getDesc()"
   ]
  },
  {
   "cell_type": "markdown",
   "metadata": {},
   "source": [
    "5.Ստեղծեք ​Employee ​class-ը, որն ունի հետևյալ attribute-ները՝ ​name​, ​last_name​ և private attribute ​monthly_salary​։ Ստեղծեք ​getFullName(self) ​մեթոդը, որը կվերադարձնի “name last_name” ՝ օգտագործելով համապատասխան attribute-ների արժեքները։ Ստեղծեք ​annualSalary(self)​ մեթոդը, որը կհաշվարկի տարեկան աշխատավարձը, օգտագործելով համապատասխան attribute-ների արժեքները, և կվերադարձնի “High”, եթե արժեքը >100 ու “Low”՝ հակառակ դեպքում։ Փորձարկեք class-ի աշխատանքը ստեղծելով այդ class-ի object(ներ)։ \n",
    " \n",
    " "
   ]
  },
  {
   "cell_type": "code",
   "execution_count": 212,
   "metadata": {},
   "outputs": [],
   "source": [
    "class Employee:\n",
    "    def __init__(self,name,last_name,monthly_salary):\n",
    "            self.name=name\n",
    "            self.last_name=last_name\n",
    "            self.__monthly_salary=monthly_salary\n",
    "            \n",
    "    def getFullName(self):\n",
    "        print( self.name+ ' '+self.last_name)\n",
    "\n",
    "    def annualSalary(self):\n",
    "        S=12*self.__monthly_salary\n",
    "        if S >100:\n",
    "            print( 'High')\n",
    "        else:\n",
    "            print( 'Low')\n",
    "    "
   ]
  },
  {
   "cell_type": "code",
   "execution_count": 215,
   "metadata": {},
   "outputs": [
    {
     "name": "stdout",
     "output_type": "stream",
     "text": [
      "Anna Vardanyan\n",
      "Low\n",
      "Alla Vardanyan\n",
      "High\n"
     ]
    }
   ],
   "source": [
    "emp1=Employee('Anna','Vardanyan',8)\n",
    "emp2=Employee('Alla','Vardanyan',10)\n",
    "emp1.getFullName()\n",
    "emp1.annualSalary()\n",
    "emp2.getFullName()\n",
    "emp2.annualSalary()"
   ]
  },
  {
   "cell_type": "markdown",
   "metadata": {},
   "source": [
    "6. Ստեղծեք ​Car​ class-ը, որն ունի հետևյալ attribute-ները՝ ​model​, ​color​ և ​max_speed​։ Ստեղծեք ​compareCar(self, car2)​ մեթոդը, որը ստանում է ևս մեկ Car տիպի object որպես argument ու կվերադարձնում է “car1 is better than car2” եթե ձեր մեքենայի maxSpeed​ attribute-ի արժեքը մեծ է car2-ի ​maxSpeed​ attribute-ի արժեքից և “car2 is better than car1”՝ հակառակ դեպքում։  Փորձարկեք class-ի աշխատանքը ստեղծելով այդ class-ի object(ներ)։ \n",
    " "
   ]
  },
  {
   "cell_type": "code",
   "execution_count": 30,
   "metadata": {},
   "outputs": [],
   "source": [
    "class Carclass:\n",
    "    \n",
    "           def __init__(self,model,color,max_speed):\n",
    "                self.model=model\n",
    "                self.color=color\n",
    "                self.max_speed=max_speed\n",
    "        \n",
    "           def CompareCar(self,other):\n",
    "                if self.max_speed > other.max_speed:\n",
    "                    print(self.model+ 'is better than'+ other.model)\n",
    "                else:\n",
    "                    print(other.model + ' is better than '+ self.model)"
   ]
  },
  {
   "cell_type": "code",
   "execution_count": 31,
   "metadata": {},
   "outputs": [
    {
     "name": "stdout",
     "output_type": "stream",
     "text": [
      "TOYOTA is better than BMV\n"
     ]
    }
   ],
   "source": [
    "car1=Carclass('BMV','Blue',1000)\n",
    "car2=Carclass('TOYOTA','Green',1200)\n",
    "Carclass.CompareCar(car1,car2)"
   ]
  },
  {
   "cell_type": "markdown",
   "metadata": {},
   "source": [
    "7.Ստեղծեք Animal class-ը: Attributes:​ name Methods:​  __init__(self, name) -> ստեղծում է name attribute move(self) -> տպում է “I can move” \n",
    "\n",
    " \n",
    "Ստեղծեք Dog class-ը, որը ժառանգում է Animal-ից: Attributes:​ - Methods:​ __init__(self) -> կանչում է Animal class-ի  __init__ method-ը “Dog” արժեքով \n",
    " Ստեղծեք Dog class-ի object ու կանչեք իր վրա move() method-ը: Հիմա Dog class-ին ավելացրեք move(self) method-ը, որը տպում է “I can run really \n",
    "fast”. \n",
    "Ստեղծեք Dog class-ի object ու կանչեք իր վրա move() method-ը: \n",
    " \n",
    " "
   ]
  },
  {
   "cell_type": "code",
   "execution_count": 64,
   "metadata": {},
   "outputs": [],
   "source": [
    "class Animal:\n",
    "    def __init__ (self,name):\n",
    "            self.name=name\n",
    "        \n",
    "    def move(self):\n",
    "        print('I can move')\n",
    "        \n"
   ]
  },
  {
   "cell_type": "code",
   "execution_count": 70,
   "metadata": {},
   "outputs": [],
   "source": [
    "class Dog(Animal):\n",
    "      def __init__(self):\n",
    "            Animal.__init__(self,'Dog1')\n",
    "       "
   ]
  },
  {
   "cell_type": "code",
   "execution_count": 72,
   "metadata": {},
   "outputs": [
    {
     "name": "stdout",
     "output_type": "stream",
     "text": [
      "I can move\n"
     ]
    }
   ],
   "source": [
    "Dog1=Dog()\n",
    "Dog1.move()\n"
   ]
  },
  {
   "cell_type": "code",
   "execution_count": 82,
   "metadata": {},
   "outputs": [],
   "source": [
    "class Dog(Animal):\n",
    "    def __init__(self):\n",
    "            Animal.__init__(self,'Dog')\n",
    "            \n",
    "    def move(self):\n",
    "           print('I can run really fast')    \n",
    "            \n",
    "            "
   ]
  },
  {
   "cell_type": "code",
   "execution_count": 83,
   "metadata": {},
   "outputs": [
    {
     "name": "stdout",
     "output_type": "stream",
     "text": [
      "I can run really fast\n"
     ]
    }
   ],
   "source": [
    "Pitbul=Dog()\n",
    "Pitbul.move()"
   ]
  },
  {
   "cell_type": "code",
   "execution_count": 84,
   "metadata": {},
   "outputs": [
    {
     "data": {
      "text/plain": [
       "__main__.Animal"
      ]
     },
     "execution_count": 84,
     "metadata": {},
     "output_type": "execute_result"
    }
   ],
   "source": []
  },
  {
   "cell_type": "code",
   "execution_count": null,
   "metadata": {},
   "outputs": [],
   "source": []
  }
 ],
 "metadata": {
  "kernelspec": {
   "display_name": "Python 3",
   "language": "python",
   "name": "python3"
  },
  "language_info": {
   "codemirror_mode": {
    "name": "ipython",
    "version": 3
   },
   "file_extension": ".py",
   "mimetype": "text/x-python",
   "name": "python",
   "nbconvert_exporter": "python",
   "pygments_lexer": "ipython3",
   "version": "3.7.6"
  }
 },
 "nbformat": 4,
 "nbformat_minor": 4
}
